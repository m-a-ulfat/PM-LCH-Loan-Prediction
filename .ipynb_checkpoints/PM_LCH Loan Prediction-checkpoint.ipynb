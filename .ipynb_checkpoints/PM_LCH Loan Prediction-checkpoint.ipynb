{
 "cells": [
  {
   "cell_type": "markdown",
   "id": "5bf5cb94-7eed-4acf-af0a-bb3ea07652f9",
   "metadata": {},
   "source": [
    "### Import libraries"
   ]
  },
  {
   "cell_type": "code",
   "execution_count": 1,
   "id": "3e798a30-93f5-432d-89d3-e5fca2136913",
   "metadata": {},
   "outputs": [],
   "source": [
    "import pandas as pd\n",
    "from sklearn.model_selection import train_test_split\n",
    "from sklearn.metrics import classification_report, confusion_matrix\n",
    "from catboost import CatBoostClassifier"
   ]
  },
  {
   "cell_type": "markdown",
   "id": "f09f0177-b93d-4ad6-8943-b5b9744b71fe",
   "metadata": {},
   "source": [
    "### Step 1: Load Dataset"
   ]
  },
  {
   "cell_type": "code",
   "execution_count": 2,
   "id": "71ad45c5-75ad-4c8a-8b13-97acdf5cdf5b",
   "metadata": {},
   "outputs": [],
   "source": [
    "data = pd.read_csv('train_data.csv')\n"
   ]
  },
  {
   "cell_type": "markdown",
   "id": "bff0f6a6-5dc7-486b-aa40-a30a0e3752c0",
   "metadata": {},
   "source": [
    "### Display Top 5 Rows of The Dataset"
   ]
  },
  {
   "cell_type": "code",
   "execution_count": 3,
   "id": "63a12ec7-8487-4e14-8a3c-adfacfa9c6ff",
   "metadata": {
    "jp-MarkdownHeadingCollapsed": true
   },
   "outputs": [
    {
     "data": {
      "text/html": [
       "<div>\n",
       "<style scoped>\n",
       "    .dataframe tbody tr th:only-of-type {\n",
       "        vertical-align: middle;\n",
       "    }\n",
       "\n",
       "    .dataframe tbody tr th {\n",
       "        vertical-align: top;\n",
       "    }\n",
       "\n",
       "    .dataframe thead th {\n",
       "        text-align: right;\n",
       "    }\n",
       "</style>\n",
       "<table border=\"1\" class=\"dataframe\">\n",
       "  <thead>\n",
       "    <tr style=\"text-align: right;\">\n",
       "      <th></th>\n",
       "      <th>Region</th>\n",
       "      <th>Area</th>\n",
       "      <th>Branch Code</th>\n",
       "      <th>Gender</th>\n",
       "      <th>Education</th>\n",
       "      <th>Age</th>\n",
       "      <th>Age Level</th>\n",
       "      <th>Marital Status</th>\n",
       "      <th>House ownership</th>\n",
       "      <th>Total_family_members</th>\n",
       "      <th>...</th>\n",
       "      <th>who_will_earn</th>\n",
       "      <th>Loan Amount</th>\n",
       "      <th>Inst Months</th>\n",
       "      <th>Inst Amnt</th>\n",
       "      <th>Recovery Amount</th>\n",
       "      <th>Charges Amount</th>\n",
       "      <th>Tax</th>\n",
       "      <th>Project</th>\n",
       "      <th>Activity</th>\n",
       "      <th>Product</th>\n",
       "    </tr>\n",
       "  </thead>\n",
       "  <tbody>\n",
       "    <tr>\n",
       "      <th>0</th>\n",
       "      <td>Lahore</td>\n",
       "      <td>Thokar</td>\n",
       "      <td>1709</td>\n",
       "      <td>M</td>\n",
       "      <td>Illiterate</td>\n",
       "      <td>56</td>\n",
       "      <td>Older (46-Above)</td>\n",
       "      <td>M</td>\n",
       "      <td>Rented</td>\n",
       "      <td>9</td>\n",
       "      <td>...</td>\n",
       "      <td>Self</td>\n",
       "      <td>800000</td>\n",
       "      <td>60</td>\n",
       "      <td>16327</td>\n",
       "      <td>429715</td>\n",
       "      <td>95776</td>\n",
       "      <td>Tax paid</td>\n",
       "      <td>Prime Minister Low Cost Housing (PM-LCH)</td>\n",
       "      <td>New Construction</td>\n",
       "      <td>Housing Loan</td>\n",
       "    </tr>\n",
       "    <tr>\n",
       "      <th>1</th>\n",
       "      <td>Sheikhupura</td>\n",
       "      <td>Muridke</td>\n",
       "      <td>2102</td>\n",
       "      <td>M</td>\n",
       "      <td>Matric</td>\n",
       "      <td>33</td>\n",
       "      <td>Middle Age (30-45)</td>\n",
       "      <td>M</td>\n",
       "      <td>Rented</td>\n",
       "      <td>6</td>\n",
       "      <td>...</td>\n",
       "      <td>Self</td>\n",
       "      <td>500000</td>\n",
       "      <td>60</td>\n",
       "      <td>10204</td>\n",
       "      <td>458315</td>\n",
       "      <td>102905</td>\n",
       "      <td>Tax paid</td>\n",
       "      <td>Prime Minister Low Cost Housing (PM-LCH)</td>\n",
       "      <td>New Construction</td>\n",
       "      <td>Housing Loan</td>\n",
       "    </tr>\n",
       "    <tr>\n",
       "      <th>2</th>\n",
       "      <td>Bahawalnagar</td>\n",
       "      <td>Jahanian</td>\n",
       "      <td>2305</td>\n",
       "      <td>F</td>\n",
       "      <td>Illiterate</td>\n",
       "      <td>37</td>\n",
       "      <td>Middle Age (30-45)</td>\n",
       "      <td>M</td>\n",
       "      <td>Owned</td>\n",
       "      <td>6</td>\n",
       "      <td>...</td>\n",
       "      <td>Self</td>\n",
       "      <td>500000</td>\n",
       "      <td>60</td>\n",
       "      <td>10204</td>\n",
       "      <td>108329</td>\n",
       "      <td>24323</td>\n",
       "      <td>Tax paid</td>\n",
       "      <td>Prime Minister Low Cost Housing (PM-LCH)</td>\n",
       "      <td>Addition</td>\n",
       "      <td>Housing Loan</td>\n",
       "    </tr>\n",
       "    <tr>\n",
       "      <th>3</th>\n",
       "      <td>Kasur</td>\n",
       "      <td>Theeng More</td>\n",
       "      <td>6414</td>\n",
       "      <td>M</td>\n",
       "      <td>Middle</td>\n",
       "      <td>44</td>\n",
       "      <td>Middle Age (30-45)</td>\n",
       "      <td>M</td>\n",
       "      <td>NaN</td>\n",
       "      <td>7</td>\n",
       "      <td>...</td>\n",
       "      <td>NaN</td>\n",
       "      <td>200000</td>\n",
       "      <td>60</td>\n",
       "      <td>4081</td>\n",
       "      <td>200000</td>\n",
       "      <td>26180</td>\n",
       "      <td>Tax paid</td>\n",
       "      <td>Prime Minister Low Cost Housing (PM-LCH)</td>\n",
       "      <td>New Construction</td>\n",
       "      <td>Housing Loan</td>\n",
       "    </tr>\n",
       "    <tr>\n",
       "      <th>4</th>\n",
       "      <td>Bahawalnagar</td>\n",
       "      <td>Chishtian</td>\n",
       "      <td>214</td>\n",
       "      <td>M</td>\n",
       "      <td>Illiterate</td>\n",
       "      <td>37</td>\n",
       "      <td>Middle Age (30-45)</td>\n",
       "      <td>M</td>\n",
       "      <td>Rented</td>\n",
       "      <td>7</td>\n",
       "      <td>...</td>\n",
       "      <td>Self</td>\n",
       "      <td>500000</td>\n",
       "      <td>60</td>\n",
       "      <td>10204</td>\n",
       "      <td>216694</td>\n",
       "      <td>48646</td>\n",
       "      <td>Tax paid</td>\n",
       "      <td>Prime Minister Low Cost Housing (PM-LCH)</td>\n",
       "      <td>New Construction</td>\n",
       "      <td>Housing Loan</td>\n",
       "    </tr>\n",
       "  </tbody>\n",
       "</table>\n",
       "<p>5 rows × 27 columns</p>\n",
       "</div>"
      ],
      "text/plain": [
       "         Region         Area  Branch Code Gender   Education  Age  \\\n",
       "0        Lahore       Thokar         1709      M  Illiterate   56   \n",
       "1   Sheikhupura      Muridke         2102      M      Matric   33   \n",
       "2  Bahawalnagar     Jahanian         2305      F  Illiterate   37   \n",
       "3         Kasur  Theeng More         6414      M      Middle   44   \n",
       "4  Bahawalnagar    Chishtian          214      M  Illiterate   37   \n",
       "\n",
       "            Age Level Marital Status House ownership  Total_family_members  \\\n",
       "0    Older (46-Above)              M          Rented                     9   \n",
       "1  Middle Age (30-45)              M          Rented                     6   \n",
       "2  Middle Age (30-45)              M           Owned                     6   \n",
       "3  Middle Age (30-45)              M             NaN                     7   \n",
       "4  Middle Age (30-45)              M          Rented                     7   \n",
       "\n",
       "   ...  who_will_earn Loan Amount  Inst Months Inst Amnt Recovery Amount  \\\n",
       "0  ...           Self      800000           60     16327          429715   \n",
       "1  ...           Self      500000           60     10204          458315   \n",
       "2  ...           Self      500000           60     10204          108329   \n",
       "3  ...            NaN      200000           60      4081          200000   \n",
       "4  ...           Self      500000           60     10204          216694   \n",
       "\n",
       "   Charges Amount      Tax                                    Project  \\\n",
       "0           95776  Tax paid  Prime Minister Low Cost Housing (PM-LCH)   \n",
       "1          102905  Tax paid  Prime Minister Low Cost Housing (PM-LCH)   \n",
       "2           24323  Tax paid  Prime Minister Low Cost Housing (PM-LCH)   \n",
       "3           26180  Tax paid  Prime Minister Low Cost Housing (PM-LCH)   \n",
       "4           48646  Tax paid  Prime Minister Low Cost Housing (PM-LCH)   \n",
       "\n",
       "           Activity       Product  \n",
       "0  New Construction  Housing Loan  \n",
       "1  New Construction  Housing Loan  \n",
       "2          Addition  Housing Loan  \n",
       "3  New Construction  Housing Loan  \n",
       "4  New Construction  Housing Loan  \n",
       "\n",
       "[5 rows x 27 columns]"
      ]
     },
     "execution_count": 3,
     "metadata": {},
     "output_type": "execute_result"
    }
   ],
   "source": [
    "data.head()"
   ]
  },
  {
   "cell_type": "markdown",
   "id": "7b935f1b-5ad4-4941-80e6-13b5b157fccf",
   "metadata": {},
   "source": [
    "### Check Last 5 Rows of The Dataset"
   ]
  },
  {
   "cell_type": "code",
   "execution_count": 4,
   "id": "b1fd3dce-db2c-4875-b1b5-6112fd3427c4",
   "metadata": {},
   "outputs": [
    {
     "data": {
      "text/html": [
       "<div>\n",
       "<style scoped>\n",
       "    .dataframe tbody tr th:only-of-type {\n",
       "        vertical-align: middle;\n",
       "    }\n",
       "\n",
       "    .dataframe tbody tr th {\n",
       "        vertical-align: top;\n",
       "    }\n",
       "\n",
       "    .dataframe thead th {\n",
       "        text-align: right;\n",
       "    }\n",
       "</style>\n",
       "<table border=\"1\" class=\"dataframe\">\n",
       "  <thead>\n",
       "    <tr style=\"text-align: right;\">\n",
       "      <th></th>\n",
       "      <th>Region</th>\n",
       "      <th>Area</th>\n",
       "      <th>Branch Code</th>\n",
       "      <th>Gender</th>\n",
       "      <th>Education</th>\n",
       "      <th>Age</th>\n",
       "      <th>Age Level</th>\n",
       "      <th>Marital Status</th>\n",
       "      <th>House ownership</th>\n",
       "      <th>Total_family_members</th>\n",
       "      <th>...</th>\n",
       "      <th>who_will_earn</th>\n",
       "      <th>Loan Amount</th>\n",
       "      <th>Inst Months</th>\n",
       "      <th>Inst Amnt</th>\n",
       "      <th>Recovery Amount</th>\n",
       "      <th>Charges Amount</th>\n",
       "      <th>Tax</th>\n",
       "      <th>Project</th>\n",
       "      <th>Activity</th>\n",
       "      <th>Product</th>\n",
       "    </tr>\n",
       "  </thead>\n",
       "  <tbody>\n",
       "    <tr>\n",
       "      <th>0</th>\n",
       "      <td>Lahore</td>\n",
       "      <td>Thokar</td>\n",
       "      <td>1709</td>\n",
       "      <td>M</td>\n",
       "      <td>Illiterate</td>\n",
       "      <td>56</td>\n",
       "      <td>Older (46-Above)</td>\n",
       "      <td>M</td>\n",
       "      <td>Rented</td>\n",
       "      <td>9</td>\n",
       "      <td>...</td>\n",
       "      <td>Self</td>\n",
       "      <td>800000</td>\n",
       "      <td>60</td>\n",
       "      <td>16327</td>\n",
       "      <td>429715</td>\n",
       "      <td>95776</td>\n",
       "      <td>Tax paid</td>\n",
       "      <td>Prime Minister Low Cost Housing (PM-LCH)</td>\n",
       "      <td>New Construction</td>\n",
       "      <td>Housing Loan</td>\n",
       "    </tr>\n",
       "    <tr>\n",
       "      <th>1</th>\n",
       "      <td>Sheikhupura</td>\n",
       "      <td>Muridke</td>\n",
       "      <td>2102</td>\n",
       "      <td>M</td>\n",
       "      <td>Matric</td>\n",
       "      <td>33</td>\n",
       "      <td>Middle Age (30-45)</td>\n",
       "      <td>M</td>\n",
       "      <td>Rented</td>\n",
       "      <td>6</td>\n",
       "      <td>...</td>\n",
       "      <td>Self</td>\n",
       "      <td>500000</td>\n",
       "      <td>60</td>\n",
       "      <td>10204</td>\n",
       "      <td>458315</td>\n",
       "      <td>102905</td>\n",
       "      <td>Tax paid</td>\n",
       "      <td>Prime Minister Low Cost Housing (PM-LCH)</td>\n",
       "      <td>New Construction</td>\n",
       "      <td>Housing Loan</td>\n",
       "    </tr>\n",
       "    <tr>\n",
       "      <th>2</th>\n",
       "      <td>Bahawalnagar</td>\n",
       "      <td>Jahanian</td>\n",
       "      <td>2305</td>\n",
       "      <td>F</td>\n",
       "      <td>Illiterate</td>\n",
       "      <td>37</td>\n",
       "      <td>Middle Age (30-45)</td>\n",
       "      <td>M</td>\n",
       "      <td>Owned</td>\n",
       "      <td>6</td>\n",
       "      <td>...</td>\n",
       "      <td>Self</td>\n",
       "      <td>500000</td>\n",
       "      <td>60</td>\n",
       "      <td>10204</td>\n",
       "      <td>108329</td>\n",
       "      <td>24323</td>\n",
       "      <td>Tax paid</td>\n",
       "      <td>Prime Minister Low Cost Housing (PM-LCH)</td>\n",
       "      <td>Addition</td>\n",
       "      <td>Housing Loan</td>\n",
       "    </tr>\n",
       "    <tr>\n",
       "      <th>3</th>\n",
       "      <td>Kasur</td>\n",
       "      <td>Theeng More</td>\n",
       "      <td>6414</td>\n",
       "      <td>M</td>\n",
       "      <td>Middle</td>\n",
       "      <td>44</td>\n",
       "      <td>Middle Age (30-45)</td>\n",
       "      <td>M</td>\n",
       "      <td>NaN</td>\n",
       "      <td>7</td>\n",
       "      <td>...</td>\n",
       "      <td>NaN</td>\n",
       "      <td>200000</td>\n",
       "      <td>60</td>\n",
       "      <td>4081</td>\n",
       "      <td>200000</td>\n",
       "      <td>26180</td>\n",
       "      <td>Tax paid</td>\n",
       "      <td>Prime Minister Low Cost Housing (PM-LCH)</td>\n",
       "      <td>New Construction</td>\n",
       "      <td>Housing Loan</td>\n",
       "    </tr>\n",
       "    <tr>\n",
       "      <th>4</th>\n",
       "      <td>Bahawalnagar</td>\n",
       "      <td>Chishtian</td>\n",
       "      <td>214</td>\n",
       "      <td>M</td>\n",
       "      <td>Illiterate</td>\n",
       "      <td>37</td>\n",
       "      <td>Middle Age (30-45)</td>\n",
       "      <td>M</td>\n",
       "      <td>Rented</td>\n",
       "      <td>7</td>\n",
       "      <td>...</td>\n",
       "      <td>Self</td>\n",
       "      <td>500000</td>\n",
       "      <td>60</td>\n",
       "      <td>10204</td>\n",
       "      <td>216694</td>\n",
       "      <td>48646</td>\n",
       "      <td>Tax paid</td>\n",
       "      <td>Prime Minister Low Cost Housing (PM-LCH)</td>\n",
       "      <td>New Construction</td>\n",
       "      <td>Housing Loan</td>\n",
       "    </tr>\n",
       "  </tbody>\n",
       "</table>\n",
       "<p>5 rows × 27 columns</p>\n",
       "</div>"
      ],
      "text/plain": [
       "         Region         Area  Branch Code Gender   Education  Age  \\\n",
       "0        Lahore       Thokar         1709      M  Illiterate   56   \n",
       "1   Sheikhupura      Muridke         2102      M      Matric   33   \n",
       "2  Bahawalnagar     Jahanian         2305      F  Illiterate   37   \n",
       "3         Kasur  Theeng More         6414      M      Middle   44   \n",
       "4  Bahawalnagar    Chishtian          214      M  Illiterate   37   \n",
       "\n",
       "            Age Level Marital Status House ownership  Total_family_members  \\\n",
       "0    Older (46-Above)              M          Rented                     9   \n",
       "1  Middle Age (30-45)              M          Rented                     6   \n",
       "2  Middle Age (30-45)              M           Owned                     6   \n",
       "3  Middle Age (30-45)              M             NaN                     7   \n",
       "4  Middle Age (30-45)              M          Rented                     7   \n",
       "\n",
       "   ...  who_will_earn Loan Amount  Inst Months Inst Amnt Recovery Amount  \\\n",
       "0  ...           Self      800000           60     16327          429715   \n",
       "1  ...           Self      500000           60     10204          458315   \n",
       "2  ...           Self      500000           60     10204          108329   \n",
       "3  ...            NaN      200000           60      4081          200000   \n",
       "4  ...           Self      500000           60     10204          216694   \n",
       "\n",
       "   Charges Amount      Tax                                    Project  \\\n",
       "0           95776  Tax paid  Prime Minister Low Cost Housing (PM-LCH)   \n",
       "1          102905  Tax paid  Prime Minister Low Cost Housing (PM-LCH)   \n",
       "2           24323  Tax paid  Prime Minister Low Cost Housing (PM-LCH)   \n",
       "3           26180  Tax paid  Prime Minister Low Cost Housing (PM-LCH)   \n",
       "4           48646  Tax paid  Prime Minister Low Cost Housing (PM-LCH)   \n",
       "\n",
       "           Activity       Product  \n",
       "0  New Construction  Housing Loan  \n",
       "1  New Construction  Housing Loan  \n",
       "2          Addition  Housing Loan  \n",
       "3  New Construction  Housing Loan  \n",
       "4  New Construction  Housing Loan  \n",
       "\n",
       "[5 rows x 27 columns]"
      ]
     },
     "execution_count": 4,
     "metadata": {},
     "output_type": "execute_result"
    }
   ],
   "source": [
    "data.head()"
   ]
  },
  {
   "cell_type": "code",
   "execution_count": 5,
   "id": "a7db870d-9152-42f3-858b-cba3aa7e97f7",
   "metadata": {},
   "outputs": [
    {
     "data": {
      "text/html": [
       "<div>\n",
       "<style scoped>\n",
       "    .dataframe tbody tr th:only-of-type {\n",
       "        vertical-align: middle;\n",
       "    }\n",
       "\n",
       "    .dataframe tbody tr th {\n",
       "        vertical-align: top;\n",
       "    }\n",
       "\n",
       "    .dataframe thead th {\n",
       "        text-align: right;\n",
       "    }\n",
       "</style>\n",
       "<table border=\"1\" class=\"dataframe\">\n",
       "  <thead>\n",
       "    <tr style=\"text-align: right;\">\n",
       "      <th></th>\n",
       "      <th>Region</th>\n",
       "      <th>Area</th>\n",
       "      <th>Branch Code</th>\n",
       "      <th>Gender</th>\n",
       "      <th>Education</th>\n",
       "      <th>Age</th>\n",
       "      <th>Age Level</th>\n",
       "      <th>Marital Status</th>\n",
       "      <th>House ownership</th>\n",
       "      <th>Total_family_members</th>\n",
       "      <th>...</th>\n",
       "      <th>who_will_earn</th>\n",
       "      <th>Loan Amount</th>\n",
       "      <th>Inst Months</th>\n",
       "      <th>Inst Amnt</th>\n",
       "      <th>Recovery Amount</th>\n",
       "      <th>Charges Amount</th>\n",
       "      <th>Tax</th>\n",
       "      <th>Project</th>\n",
       "      <th>Activity</th>\n",
       "      <th>Product</th>\n",
       "    </tr>\n",
       "  </thead>\n",
       "  <tbody>\n",
       "    <tr>\n",
       "      <th>19672</th>\n",
       "      <td>FATA</td>\n",
       "      <td>Khyber</td>\n",
       "      <td>8302</td>\n",
       "      <td>M</td>\n",
       "      <td>Matric</td>\n",
       "      <td>46</td>\n",
       "      <td>Older (46-Above)</td>\n",
       "      <td>M</td>\n",
       "      <td>Owned</td>\n",
       "      <td>7</td>\n",
       "      <td>...</td>\n",
       "      <td>Self</td>\n",
       "      <td>400000</td>\n",
       "      <td>60</td>\n",
       "      <td>8164</td>\n",
       "      <td>135719</td>\n",
       "      <td>19461</td>\n",
       "      <td>Tax paid</td>\n",
       "      <td>Prime Minister Low Cost Housing (PM-LCH)</td>\n",
       "      <td>New Construction</td>\n",
       "      <td>Housing Loan</td>\n",
       "    </tr>\n",
       "    <tr>\n",
       "      <th>19673</th>\n",
       "      <td>Lahore</td>\n",
       "      <td>Madhulal</td>\n",
       "      <td>1739</td>\n",
       "      <td>M</td>\n",
       "      <td>Middle</td>\n",
       "      <td>34</td>\n",
       "      <td>Middle Age (30-45)</td>\n",
       "      <td>M</td>\n",
       "      <td>NaN</td>\n",
       "      <td>9</td>\n",
       "      <td>...</td>\n",
       "      <td>NaN</td>\n",
       "      <td>500000</td>\n",
       "      <td>60</td>\n",
       "      <td>10204</td>\n",
       "      <td>500000</td>\n",
       "      <td>99163</td>\n",
       "      <td>Tax paid</td>\n",
       "      <td>Prime Minister Low Cost Housing (PM-LCH)</td>\n",
       "      <td>New Construction</td>\n",
       "      <td>Housing Loan</td>\n",
       "    </tr>\n",
       "    <tr>\n",
       "      <th>19674</th>\n",
       "      <td>Gilgit Baltistan</td>\n",
       "      <td>Ghizer</td>\n",
       "      <td>51203</td>\n",
       "      <td>M</td>\n",
       "      <td>Matric</td>\n",
       "      <td>42</td>\n",
       "      <td>Middle Age (30-45)</td>\n",
       "      <td>M</td>\n",
       "      <td>Owned</td>\n",
       "      <td>5</td>\n",
       "      <td>...</td>\n",
       "      <td>Self</td>\n",
       "      <td>500000</td>\n",
       "      <td>60</td>\n",
       "      <td>10204</td>\n",
       "      <td>485942</td>\n",
       "      <td>108518</td>\n",
       "      <td>Tax paid</td>\n",
       "      <td>Prime Minister Low Cost Housing (PM-LCH)</td>\n",
       "      <td>New Construction</td>\n",
       "      <td>Housing Loan</td>\n",
       "    </tr>\n",
       "    <tr>\n",
       "      <th>19675</th>\n",
       "      <td>Kasur</td>\n",
       "      <td>Theeng More</td>\n",
       "      <td>1824</td>\n",
       "      <td>F</td>\n",
       "      <td>Illiterate</td>\n",
       "      <td>40</td>\n",
       "      <td>Middle Age (30-45)</td>\n",
       "      <td>M</td>\n",
       "      <td>NaN</td>\n",
       "      <td>7</td>\n",
       "      <td>...</td>\n",
       "      <td>NaN</td>\n",
       "      <td>500000</td>\n",
       "      <td>60</td>\n",
       "      <td>10204</td>\n",
       "      <td>333516</td>\n",
       "      <td>74840</td>\n",
       "      <td>Tax paid</td>\n",
       "      <td>Prime Minister Low Cost Housing (PM-LCH)</td>\n",
       "      <td>New Construction</td>\n",
       "      <td>Housing Loan</td>\n",
       "    </tr>\n",
       "    <tr>\n",
       "      <th>19676</th>\n",
       "      <td>Mianwali</td>\n",
       "      <td>Kala Bagh</td>\n",
       "      <td>3511</td>\n",
       "      <td>M</td>\n",
       "      <td>Matric</td>\n",
       "      <td>40</td>\n",
       "      <td>Middle Age (30-45)</td>\n",
       "      <td>M</td>\n",
       "      <td>Owned</td>\n",
       "      <td>5</td>\n",
       "      <td>...</td>\n",
       "      <td>Self</td>\n",
       "      <td>800000</td>\n",
       "      <td>60</td>\n",
       "      <td>16327</td>\n",
       "      <td>173331</td>\n",
       "      <td>38909</td>\n",
       "      <td>Tax paid</td>\n",
       "      <td>Prime Minister Low Cost Housing (PM-LCH)</td>\n",
       "      <td>New Construction</td>\n",
       "      <td>Housing Loan</td>\n",
       "    </tr>\n",
       "  </tbody>\n",
       "</table>\n",
       "<p>5 rows × 27 columns</p>\n",
       "</div>"
      ],
      "text/plain": [
       "                 Region         Area  Branch Code Gender   Education  Age  \\\n",
       "19672              FATA       Khyber         8302      M      Matric   46   \n",
       "19673            Lahore     Madhulal         1739      M      Middle   34   \n",
       "19674  Gilgit Baltistan       Ghizer        51203      M      Matric   42   \n",
       "19675             Kasur  Theeng More         1824      F  Illiterate   40   \n",
       "19676          Mianwali    Kala Bagh         3511      M      Matric   40   \n",
       "\n",
       "                Age Level Marital Status House ownership  \\\n",
       "19672    Older (46-Above)              M           Owned   \n",
       "19673  Middle Age (30-45)              M             NaN   \n",
       "19674  Middle Age (30-45)              M           Owned   \n",
       "19675  Middle Age (30-45)              M             NaN   \n",
       "19676  Middle Age (30-45)              M           Owned   \n",
       "\n",
       "       Total_family_members  ...  who_will_earn Loan Amount  Inst Months  \\\n",
       "19672                     7  ...           Self      400000           60   \n",
       "19673                     9  ...            NaN      500000           60   \n",
       "19674                     5  ...           Self      500000           60   \n",
       "19675                     7  ...            NaN      500000           60   \n",
       "19676                     5  ...           Self      800000           60   \n",
       "\n",
       "      Inst Amnt Recovery Amount  Charges Amount      Tax   \\\n",
       "19672      8164          135719           19461  Tax paid   \n",
       "19673     10204          500000           99163  Tax paid   \n",
       "19674     10204          485942          108518  Tax paid   \n",
       "19675     10204          333516           74840  Tax paid   \n",
       "19676     16327          173331           38909  Tax paid   \n",
       "\n",
       "                                        Project          Activity  \\\n",
       "19672  Prime Minister Low Cost Housing (PM-LCH)  New Construction   \n",
       "19673  Prime Minister Low Cost Housing (PM-LCH)  New Construction   \n",
       "19674  Prime Minister Low Cost Housing (PM-LCH)  New Construction   \n",
       "19675  Prime Minister Low Cost Housing (PM-LCH)  New Construction   \n",
       "19676  Prime Minister Low Cost Housing (PM-LCH)  New Construction   \n",
       "\n",
       "            Product  \n",
       "19672  Housing Loan  \n",
       "19673  Housing Loan  \n",
       "19674  Housing Loan  \n",
       "19675  Housing Loan  \n",
       "19676  Housing Loan  \n",
       "\n",
       "[5 rows x 27 columns]"
      ]
     },
     "execution_count": 5,
     "metadata": {},
     "output_type": "execute_result"
    }
   ],
   "source": [
    "data.tail()"
   ]
  },
  {
   "cell_type": "markdown",
   "id": "f1cd6364-eab6-4098-ae71-3386a75dccd3",
   "metadata": {},
   "source": [
    "### Find Shape of Our Dataset (Number of Rows And Number of Columns)"
   ]
  },
  {
   "cell_type": "code",
   "execution_count": 6,
   "id": "2a4b6e23-fade-4544-a08a-d5c7c2794812",
   "metadata": {},
   "outputs": [
    {
     "data": {
      "text/plain": [
       "(19677, 27)"
      ]
     },
     "execution_count": 6,
     "metadata": {},
     "output_type": "execute_result"
    }
   ],
   "source": [
    "data.shape"
   ]
  },
  {
   "cell_type": "code",
   "execution_count": 7,
   "id": "34120a6e-51b7-4d1f-893a-12f06124fce1",
   "metadata": {},
   "outputs": [
    {
     "name": "stdout",
     "output_type": "stream",
     "text": [
      "Number of Rows 19677\n",
      "Number of Columns 27\n"
     ]
    }
   ],
   "source": [
    "print(\"Number of Rows\",data.shape[0])\n",
    "print(\"Number of Columns\",data.shape[1])"
   ]
  },
  {
   "cell_type": "code",
   "execution_count": 8,
   "id": "01569baa-1b5c-4b2a-b850-b1435f846e2a",
   "metadata": {},
   "outputs": [
    {
     "name": "stdout",
     "output_type": "stream",
     "text": [
      "<class 'pandas.core.frame.DataFrame'>\n",
      "RangeIndex: 19677 entries, 0 to 19676\n",
      "Data columns (total 27 columns):\n",
      " #   Column                Non-Null Count  Dtype  \n",
      "---  ------                --------------  -----  \n",
      " 0   Region                19677 non-null  object \n",
      " 1   Area                  19677 non-null  object \n",
      " 2   Branch Code           19677 non-null  int64  \n",
      " 3   Gender                19677 non-null  object \n",
      " 4   Education             19677 non-null  object \n",
      " 5   Age                   19677 non-null  int64  \n",
      " 6   Age Level             19677 non-null  object \n",
      " 7   Marital Status        19677 non-null  object \n",
      " 8   House ownership       16892 non-null  object \n",
      " 9   Total_family_members  19677 non-null  int64  \n",
      " 10  No_of_earning_hands   19677 non-null  int64  \n",
      " 11  Source of Incom       16892 non-null  object \n",
      " 12  Incom                 16892 non-null  float64\n",
      " 13  Monthly_Saving        16892 non-null  object \n",
      " 14  Saving Amount         16892 non-null  object \n",
      " 15  Expenses              16892 non-null  float64\n",
      " 16  Social behavior       16892 non-null  object \n",
      " 17  who_will_earn         16827 non-null  object \n",
      " 18  Loan Amount           19677 non-null  int64  \n",
      " 19  Inst Months           19677 non-null  int64  \n",
      " 20  Inst Amnt             19677 non-null  int64  \n",
      " 21  Recovery Amount       19677 non-null  int64  \n",
      " 22  Charges Amount        19677 non-null  int64  \n",
      " 23  Tax                   19677 non-null  object \n",
      " 24  Project               19677 non-null  object \n",
      " 25  Activity              19677 non-null  object \n",
      " 26  Product               19677 non-null  object \n",
      "dtypes: float64(2), int64(9), object(16)\n",
      "memory usage: 4.1+ MB\n"
     ]
    }
   ],
   "source": [
    "data.info()"
   ]
  },
  {
   "cell_type": "markdown",
   "id": "abce1892-3445-4fae-8079-9fdb0ef83c52",
   "metadata": {},
   "source": [
    "### Check Null Values In The Dataset"
   ]
  },
  {
   "cell_type": "code",
   "execution_count": 9,
   "id": "f680587b-aa53-4c06-a2b3-d5e4a0df7f06",
   "metadata": {},
   "outputs": [
    {
     "data": {
      "text/plain": [
       "Region                     0\n",
       "Area                       0\n",
       "Branch Code                0\n",
       "Gender                     0\n",
       "Education                  0\n",
       "Age                        0\n",
       "Age Level                  0\n",
       "Marital Status             0\n",
       "House ownership         2785\n",
       "Total_family_members       0\n",
       "No_of_earning_hands        0\n",
       "Source of Incom         2785\n",
       "Incom                   2785\n",
       "Monthly_Saving          2785\n",
       "Saving Amount           2785\n",
       "Expenses                2785\n",
       "Social behavior         2785\n",
       "who_will_earn           2850\n",
       "Loan Amount                0\n",
       "Inst Months                0\n",
       "Inst Amnt                  0\n",
       "Recovery Amount            0\n",
       "Charges Amount             0\n",
       "Tax                        0\n",
       "Project                    0\n",
       "Activity                   0\n",
       "Product                    0\n",
       "dtype: int64"
      ]
     },
     "execution_count": 9,
     "metadata": {},
     "output_type": "execute_result"
    }
   ],
   "source": [
    "data.isnull().sum()"
   ]
  },
  {
   "cell_type": "markdown",
   "id": "84f40a93-37d9-4996-b291-01cb790ca30c",
   "metadata": {},
   "source": [
    "### Handling The missing Values/ Drop spesific column"
   ]
  },
  {
   "cell_type": "code",
   "execution_count": 10,
   "id": "63922857-848a-4491-93fa-fc1bb2183595",
   "metadata": {},
   "outputs": [
    {
     "name": "stdout",
     "output_type": "stream",
     "text": [
      "<class 'pandas.core.frame.DataFrame'>\n",
      "RangeIndex: 19677 entries, 0 to 19676\n",
      "Data columns (total 27 columns):\n",
      " #   Column                Non-Null Count  Dtype  \n",
      "---  ------                --------------  -----  \n",
      " 0   Region                19677 non-null  object \n",
      " 1   Area                  19677 non-null  object \n",
      " 2   Branch Code           19677 non-null  int64  \n",
      " 3   Gender                19677 non-null  object \n",
      " 4   Education             19677 non-null  object \n",
      " 5   Age                   19677 non-null  int64  \n",
      " 6   Age Level             19677 non-null  object \n",
      " 7   Marital Status        19677 non-null  object \n",
      " 8   House ownership       16892 non-null  object \n",
      " 9   Total_family_members  19677 non-null  int64  \n",
      " 10  No_of_earning_hands   19677 non-null  int64  \n",
      " 11  Source of Incom       16892 non-null  object \n",
      " 12  Incom                 16892 non-null  float64\n",
      " 13  Monthly_Saving        16892 non-null  object \n",
      " 14  Saving Amount         16892 non-null  object \n",
      " 15  Expenses              16892 non-null  float64\n",
      " 16  Social behavior       16892 non-null  object \n",
      " 17  who_will_earn         16827 non-null  object \n",
      " 18  Loan Amount           19677 non-null  int64  \n",
      " 19  Inst Months           19677 non-null  int64  \n",
      " 20  Inst Amnt             19677 non-null  int64  \n",
      " 21  Recovery Amount       19677 non-null  int64  \n",
      " 22  Charges Amount        19677 non-null  int64  \n",
      " 23  Tax                   19677 non-null  object \n",
      " 24  Project               19677 non-null  object \n",
      " 25  Activity              19677 non-null  object \n",
      " 26  Product               19677 non-null  object \n",
      "dtypes: float64(2), int64(9), object(16)\n",
      "memory usage: 4.1+ MB\n"
     ]
    }
   ],
   "source": [
    "data.info()"
   ]
  },
  {
   "cell_type": "code",
   "execution_count": 11,
   "id": "650e617d-dc1d-44c7-a76b-518730ed225d",
   "metadata": {},
   "outputs": [
    {
     "data": {
      "text/plain": [
       "Region                     0\n",
       "Area                       0\n",
       "Branch Code                0\n",
       "Gender                     0\n",
       "Education                  0\n",
       "Age                        0\n",
       "Age Level                  0\n",
       "Marital Status             0\n",
       "House ownership         2785\n",
       "Total_family_members       0\n",
       "No_of_earning_hands        0\n",
       "Source of Incom         2785\n",
       "Incom                   2785\n",
       "Monthly_Saving          2785\n",
       "Saving Amount           2785\n",
       "Expenses                2785\n",
       "Social behavior         2785\n",
       "who_will_earn           2850\n",
       "Loan Amount                0\n",
       "Inst Months                0\n",
       "Inst Amnt                  0\n",
       "Recovery Amount            0\n",
       "Charges Amount             0\n",
       "Tax                        0\n",
       "Project                    0\n",
       "Activity                   0\n",
       "Product                    0\n",
       "dtype: int64"
      ]
     },
     "execution_count": 11,
     "metadata": {},
     "output_type": "execute_result"
    }
   ],
   "source": [
    "data.isnull().sum()"
   ]
  },
  {
   "cell_type": "code",
   "execution_count": 12,
   "id": "9b067ea1-eb4d-436d-b15f-3d384ab29940",
   "metadata": {},
   "outputs": [],
   "source": [
    "data['Incom'] =data['Incom'].fillna(data['Incom'].mode()[0])\n",
    "data['Monthly_Saving'] =data['Monthly_Saving'].fillna(data['Monthly_Saving'].mode()[0])\n",
    "data['Expenses'] =data['Expenses'].fillna(data['Expenses'].mode()[0])\n",
    "data['Saving Amount'] =data['Saving Amount'].fillna(data['Saving Amount'].mode()[0])\n"
   ]
  },
  {
   "cell_type": "code",
   "execution_count": 13,
   "id": "26c4d484-b3ed-4f66-bd05-536ed5ad06ee",
   "metadata": {},
   "outputs": [
    {
     "data": {
      "text/plain": [
       "Region                     0\n",
       "Area                       0\n",
       "Branch Code                0\n",
       "Gender                     0\n",
       "Education                  0\n",
       "Age                        0\n",
       "Age Level                  0\n",
       "Marital Status             0\n",
       "House ownership         2785\n",
       "Total_family_members       0\n",
       "No_of_earning_hands        0\n",
       "Source of Incom         2785\n",
       "Incom                      0\n",
       "Monthly_Saving             0\n",
       "Saving Amount              0\n",
       "Expenses                   0\n",
       "Social behavior         2785\n",
       "who_will_earn           2850\n",
       "Loan Amount                0\n",
       "Inst Months                0\n",
       "Inst Amnt                  0\n",
       "Recovery Amount            0\n",
       "Charges Amount             0\n",
       "Tax                        0\n",
       "Project                    0\n",
       "Activity                   0\n",
       "Product                    0\n",
       "dtype: int64"
      ]
     },
     "execution_count": 13,
     "metadata": {},
     "output_type": "execute_result"
    }
   ],
   "source": [
    "data.isnull().sum()"
   ]
  },
  {
   "cell_type": "code",
   "execution_count": 14,
   "id": "5e730193-edb2-4ce9-9a48-e17b548ac26e",
   "metadata": {},
   "outputs": [
    {
     "data": {
      "text/plain": [
       "array(['Lahore', 'Sheikhupura', 'Bahawalnagar', 'Kasur', 'Rawalpindi',\n",
       "       'Jhelum', 'Nowshera', 'Kohat', 'Multan', 'Faisalabad', 'Sargodha',\n",
       "       'FATA', 'Quetta', 'DG Khan', 'Mianwali', 'Gilgit Baltistan',\n",
       "       'Jhang', 'Bahawalpur', 'Karachi', 'Sahiwal', 'Abbottabad',\n",
       "       'Chakwal', 'Gujranwala', 'Sukkur', 'Attock', 'AJ&K'], dtype=object)"
      ]
     },
     "execution_count": 14,
     "metadata": {},
     "output_type": "execute_result"
    }
   ],
   "source": [
    "data['Region'].unique()"
   ]
  },
  {
   "cell_type": "code",
   "execution_count": 15,
   "id": "20954a45-5384-4d04-b17d-a04802da1818",
   "metadata": {},
   "outputs": [
    {
     "data": {
      "text/plain": [
       "array(['Thokar', 'Muridke', 'Jahanian', 'Theeng More', 'Chishtian',\n",
       "       'Rawalpindi', 'Bahawalnagar', 'Kamoke', 'Pind Dadan Khan',\n",
       "       'Nowshera', 'Kot Abdul Malik', 'Bannu', 'Multan', 'Faisalabad',\n",
       "       'Sargodha', 'Mohmand', 'Bhera', 'Loralai', 'Jhelum', 'Alipur',\n",
       "       'Bhakkar', 'Gilgit', 'Rangeel Pur', 'Mardan', 'Gujrat', 'Layyah',\n",
       "       'Chiniot', 'Gareebabad', 'Kot Momin', 'Rajana', 'Rasheed Abad',\n",
       "       'Bahawalpur', 'Thatha', 'Mian Channu', 'Shangla', 'Islamabad',\n",
       "       'Mingora', 'Chakwal', 'Samundari', 'Muzaffargarh', 'Okara',\n",
       "       'Kasur', 'Gujranwala', 'Sukkur', 'Peer Phulai', 'Jand', 'Mansehra',\n",
       "       'Tench Bhata', 'Saddar', 'Jhang', 'Bajaur', 'Abbottabad',\n",
       "       'Nishtar', 'Shorkot', 'Jhelum Valley', 'Sahiwal', 'Attock',\n",
       "       'Hyderabad', 'Kotli', 'Swabi', 'Toba Tek Singh', 'Muzaffarabad',\n",
       "       'Khyber', 'Sialkot', 'Lodhran(Bahawalpur2)', 'Kohat', 'Karachi',\n",
       "       'Burewala', 'Madhulal', 'Rajanpur', 'Fateh Jang', 'Korangi',\n",
       "       'Khushab', 'D.I. Khan', 'Mianwali', 'Quidabad', 'Mirpur',\n",
       "       'Narowal', 'Quetta', 'Mandi Bahauddin', 'Rohri', 'Sangla Hill',\n",
       "       'Tank', 'Chitral', 'Kallar Kahar', 'Pichnand', 'Rawalakot',\n",
       "       'Taxila', 'Skardu', 'Pattoki', 'Kurrum', 'Hafizabad', 'Vehari',\n",
       "       'Rahim yar Khan', 'Salamatpura', 'Jacob Abad', 'Abbaspur',\n",
       "       'D.G Khan', 'Talagang', 'Peshawar', 'Ghanche', 'Danyor', 'Khuzdar',\n",
       "       'Data sahib', 'Ghizer', 'Kala Bagh', 'Diamer', 'Khanpur',\n",
       "       'Hunza Nagar', 'Sodiwal', 'Nushki', 'Lasbela', 'Sujawal',\n",
       "       'Battagram', 'Taunsa Sharif', 'Gwadar'], dtype=object)"
      ]
     },
     "execution_count": 15,
     "metadata": {},
     "output_type": "execute_result"
    }
   ],
   "source": [
    "data['Area'].unique()"
   ]
  },
  {
   "cell_type": "code",
   "execution_count": 16,
   "id": "88a311b9-903e-4122-bb0f-57e3652f6ff6",
   "metadata": {},
   "outputs": [
    {
     "data": {
      "text/plain": [
       "array(['Illiterate', 'Matric', 'Middle', 'Primary', 'Masters',\n",
       "       'Intermediate', 'Bachelor', 'Mphil', 'Phd'], dtype=object)"
      ]
     },
     "execution_count": 16,
     "metadata": {},
     "output_type": "execute_result"
    }
   ],
   "source": [
    "data['Education'].unique()"
   ]
  },
  {
   "cell_type": "code",
   "execution_count": 17,
   "id": "77848b5c-1237-49b7-bcff-5b7b59290af7",
   "metadata": {},
   "outputs": [
    {
     "data": {
      "text/plain": [
       "array([56, 33, 37, 44, 58, 53, 23, 45, 48, 41, 24, 55, 32, 54, 40, 35, 29,\n",
       "       43, 34, 42, 30, 26, 27, 31, 20, 36, 50, 47, 49, 39, 38, 57, 25, 51,\n",
       "       28, 52, 46, 21, 59, 22, 60, 19, 61])"
      ]
     },
     "execution_count": 17,
     "metadata": {},
     "output_type": "execute_result"
    }
   ],
   "source": [
    "data['Age'].unique()"
   ]
  },
  {
   "cell_type": "code",
   "execution_count": 18,
   "id": "657c707d-5bca-4b1e-a3c7-9378be32489f",
   "metadata": {},
   "outputs": [
    {
     "data": {
      "text/plain": [
       "array(['M', 'F'], dtype=object)"
      ]
     },
     "execution_count": 18,
     "metadata": {},
     "output_type": "execute_result"
    }
   ],
   "source": [
    "data['Gender'].unique()"
   ]
  },
  {
   "cell_type": "code",
   "execution_count": 19,
   "id": "0062b675-6b5f-4ca1-8348-b27665d4218c",
   "metadata": {},
   "outputs": [
    {
     "data": {
      "text/plain": [
       "array([60, 48, 30, 54, 36, 42, 24, 21, 12])"
      ]
     },
     "execution_count": 19,
     "metadata": {},
     "output_type": "execute_result"
    }
   ],
   "source": [
    "data['Inst Months'].unique()"
   ]
  },
  {
   "cell_type": "code",
   "execution_count": 20,
   "id": "f4751501-ba81-47ce-9d4b-4bae06bb7a22",
   "metadata": {},
   "outputs": [
    {
     "data": {
      "text/plain": [
       "array([ 800000,  500000,  200000,  700000,  400000, 1000000,  375000,\n",
       "        300000,  600000,  450000,  350000,  250000,  750000,  470000,\n",
       "        480000,  490000,  465000,  650000,  550000,  850000,  475000,\n",
       "        900000,  425000,  270000,  395000,  460000,  370000,  150000,\n",
       "        225000,  380000,  280000,  398200,  298000,  440000,  310000,\n",
       "        125000,  446222,  485000,  120000,  420000,  340000,  740000,\n",
       "        430000,  240000,  338000,  680000,  407400,  100000,  445000,\n",
       "        434000,  325000,  360000,  446000,  366000,  283500,  670000,\n",
       "        230000,  421500,  435000,  390000,  495000,  875000,  435500,\n",
       "        330000,  410000,  476000,  640000,  491244,  710000,  494000,\n",
       "        245000,  187500,  210000,  348176,  415000,  320000,  180000,\n",
       "        498914,  630000,  385000,  675000,  175000,  950000,  237996,\n",
       "        476636,  396000,  685000,  220000,  498690])"
      ]
     },
     "execution_count": 20,
     "metadata": {},
     "output_type": "execute_result"
    }
   ],
   "source": [
    "data['Loan Amount'].unique()"
   ]
  },
  {
   "cell_type": "code",
   "execution_count": 21,
   "id": "d62ed8e9-2df3-46dc-b17c-83c299f97ced",
   "metadata": {},
   "outputs": [
    {
     "data": {
      "text/plain": [
       "array([429715, 458315, 108329, ..., 293653, 135719, 485942], shape=(9475,))"
      ]
     },
     "execution_count": 21,
     "metadata": {},
     "output_type": "execute_result"
    }
   ],
   "source": [
    "data['Recovery Amount'].unique()"
   ]
  },
  {
   "cell_type": "code",
   "execution_count": 22,
   "id": "3e04a812-8047-452e-aa7f-135615eaa60a",
   "metadata": {},
   "outputs": [
    {
     "data": {
      "text/plain": [
       "array([ 95776, 102905,  24323,  26180,  48646,   5238,  35549,   1497,\n",
       "        22452,  14965,  44910,  99163,  78582,  39291,  53874,   8979,\n",
       "        89808, 108518,  99522,  67350,  56150,  44523,  43033,  46775,\n",
       "        70713,  53880,  92620,  32934,  87937,  31807,  76714,  85311,\n",
       "        62860,  91679,      0,  47888,  37425,  18710,  52388,  67356,\n",
       "        37420,   7484,    935,  75980, 104759,  26190,  50881,  98769,\n",
       "         6545,  65105,  71832,  54999,  76711,  28065,  82516,  82324,\n",
       "        20952,  93550,  86066,  23571,  33678,  13095,  84200,  60237,\n",
       "         8980,  26937,  11224,  44904, 109998,  11226,  59872,   5986,\n",
       "        29936,  72969,  52380,  58047,  22450,  36666,  35920,  49401,\n",
       "        33675,  41140,  83804, 104776,  82616,  90923,  89046, 110741,\n",
       "        31437,  65485, 101762,  69227,  70359,  34047,  84318, 145938,\n",
       "       104760,  65868,  41162,  23348,  11972,  68862,  73332,  54259,\n",
       "       101034,  96903,  74840,  82335,  26946,  90480,  65475,  26194,\n",
       "        49412,  75951,  34408,  80453,  50517,  25449,  20581,  29930,\n",
       "        17958,  62874,  37990,  22440,  49761,  51658,  50898,  86797,\n",
       "        80811,  24706,  56125,  76347,  65500,  38909,  39285,  10476,\n",
       "        61743,  95421, 123486,  71840,  26940,  42674, 107379,  27510,\n",
       "        65664,   2993,  71098, 117852,  47334,  51635,  74825,  59860,\n",
       "        58383,   5613,  43797,  49390,  35916,  28075, 125706,  47166,\n",
       "        14968,  15714,  28809,  77818,  41902,  25245,  98780,  15895,\n",
       "        94290,  16839,  42100, 116727,  18333,  23944,   9355,  53892,\n",
       "        24695,  47145,  89252,  83832,   1871,  97292,  40419,  60420,\n",
       "        63614,  62853,  14025, 103066,   2619,  40326,  97672,  89790,\n",
       "        52395,  87568,  41904,  58926,  13097,  36680,  80914,  81374,\n",
       "        60800,  79500,  56130, 106647,   3742,  77844,  20958,  44440,\n",
       "        38493,   1870,  29198, 106628,  80838,  31496,  44900,  48289,\n",
       "        83808,   4490,  79341,  84195,  24310,  25260,  16840,  80181,\n",
       "         2805,  86427,  22455,  74096,  20205,  28985,  25829,  64538,\n",
       "        89800,  44895,  58370,  34431,   7857,  70944,  95988,  63992,\n",
       "        68839,  79148,  45468, 112260,  74850,  43413,  32923,  67119,\n",
       "        40410,  54230,  31440,  23952,  55360,  91482,  49555,   6738,\n",
       "        65846,  41920,   2994,  30855,  86826,   5988,  96929,  68094,\n",
       "        53237, 102141,  58001,  53508,  38182,  26944,  76330,  44920,\n",
       "        11976,   7861,  52781,  14960,  11230,  37059,  74085,  64190,\n",
       "        95427,  61956,  87555, 157164,  92934,  28443,  56867,  93227,\n",
       "        38335,  65134,  21050,  47658,  72956,  35936, 122713,  94284,\n",
       "        51186,  57618,  72960,  73353,  53710,  19461,  48470,  19635,\n",
       "        26952,  58940,  29185,  47142,   8232,  12155,  60615,  30321,\n",
       "        36465,  39284,  61570,  47904,  10479,  99527,   7485,  14410,\n",
       "        35370,  51576,  78570,  38165,  80832,  17960,   5610,  27676,\n",
       "        20214,  21337,  67365, 107748,  61765, 116002,  58688, 107008,\n",
       "        17030,  42655,  71517,  47048,  79166,   1123,  42159,  60896,\n",
       "        85310,  50535,  15156,  94181,  41916, 142196,  77464, 102144,\n",
       "        25806,  11790,  50508,  46407,  55389,  51425,   6736,  88004,\n",
       "        56330,  51090,  50520,  77396,  31430,  96984,  17765,  60642,\n",
       "         6360,  69972,   4488,  40416,  87984,  31790,  60260,  34813,\n",
       "        13470,  62888,  20208,  38922,   4491,   5240,  11225,  31428,\n",
       "        37716,   8982,  15715,  67914,  35928,  70150,  64670,  53888,\n",
       "        73360,  32750,  35156,  15722,  69960, 117856,  84180,  59880,\n",
       "        87238,  43010,  18700,   2245,  17968,  65676,  20951,  13090,\n",
       "        92783, 106314,  33690,  75762,  62856, 104351,  22270,  45825,\n",
       "        94848,  97095,  19448, 119744, 113734,  53904,   6550,  69595,\n",
       "        14592,  69430,  24890,  56886,  13100,  31416,   8976,  91213,\n",
       "         6735,  22460,  66649, 109434,  32912,  86208,  47702,   2620,\n",
       "        95404,  74670,  72050,  21505,  92045,  44540,  88850,  71856,\n",
       "        64371,  82673, 127228,  59519,   3368,   9170,  61377,  34060,\n",
       "        41757,  30130,  44880,  48836,  55020,  20570,  28820,   2808,\n",
       "        80409,  26928,  96860,  79860,  17204,  56368, 101594,  68120,\n",
       "        57640,  23936,  26042,  90936,  39270,  41551,  81189, 104755,\n",
       "        55544,  47152,  75724,  88032,  28063,  40428,  58396, 110372,\n",
       "        32725,  94304,  32172,  43784,  61064,  93975,  17952,  15900,\n",
       "        23562,  23188,  49392, 101025,  32567, 119720, 120664,  23580,\n",
       "       103266,  46043,  91377,    748,  80820,  63525,  49252,  86886,\n",
       "       104014,  30978,  85089,  67344,  52204,  12572,  33680,  17964,\n",
       "        55003,  80262,  24684,  80256,  43945,  69044,  59866,   2246,\n",
       "        98401,  19414,  65620, 101064,  37400,  27072,  10659, 138454,\n",
       "        21892,  15147,  36652,  10480,  73370,  57256,  67360,  70728,\n",
       "        30870,  96745, 106848,  70044,  23583,  86868,  52400,  73944,\n",
       "        37048,  62308,  15720,  82476,  49286,  13472,  61866,  12716,\n",
       "        83065,  91665,  31996, 105768,  18513,   9350,  85296,  23576,\n",
       "        70796,  46208,   9540,  16467,  91650,  72312,  10107,  78575,\n",
       "        92598,  81780,   6732,  95188,  52579,  52152,  96570,  93322,\n",
       "        57273,  94192,  99818,  55027,  72412,   1216,  13476,   3740,\n",
       "        51072,  29940,  64656,  30312,  58881,    468,  39102,  96802,\n",
       "        11220,  70740,  89792,  11788,  28050,  23375,  47160,  37044,\n",
       "        38896,  14368,  86191,  89817,  22638,  65734,  12353,  60624,\n",
       "         4864,   4675,  37881,  56120, 133560,  61538, 100280, 100272,\n",
       "         7480,   3741,  97149,  82688,  44896,  62510,  84378, 120112,\n",
       "        96376,  67821, 106634,  77824,  91713,  14599,  98774,   1310,\n",
       "         9724, 102518,  62880,  41304,  13473,  99712,  29920,  43992,\n",
       "        16830,  79700,   8984,  17024,  28424,   5615,  29172,  31444,\n",
       "        45633,   3369,  91466,  58950,  87950,  45850,  19091,  27115,\n",
       "        46750,  76516,  74070,  84622,  21692,  22458, 107416, 104168,\n",
       "        20196,   7860,  55572, 107756,  39644,  38148,  92285, 131352,\n",
       "        10104,  82300,  24174,  64155,  92220,  16456,  75432,  72742,\n",
       "        35530,  12903,  58932,  94540,  26200,   8418,  64011,  43406,\n",
       "        94655, 115046,  85329,  90647,  24696,  16845,   4116,  34595,\n",
       "       105270,  65856,  65083, 153422,  63232,  89984,  92508,  38732,\n",
       "        30336,  48208,  53504,  40205,  89188,  97393,  49780,  79024,\n",
       "         7854, 117880,  75378,  41308,  28812,  43384,  48165,  81302,\n",
       "        82437,   2244, 103298, 100590, 106782,   4492,  39305,  43225,\n",
       "        33672,  95973, 104411, 101040,  10285,  20960,  71100, 130970,\n",
       "        20944,  32538,  66452,  96195,  59230,  74925,  91176,  65988,\n",
       "        62568,  20579,  43104,  37858,  12342,  63309, 104766,  58146,\n",
       "        13464,  95046,   5236,  71739,  54990, 121042, 101640,  39300,\n",
       "        21700,  22260,  55566,  17423,  87924,  42636,  19363,   3510,\n",
       "        30981,   6290,  75574,  90530,  74544,   8228,  61732,  69426,\n",
       "        86986,  25432,  90552,  74359, 112240,  19546, 108286,  61740,\n",
       "        27311,  14970,  85403,  74730,  34827,  18340,  34124,  43230,\n",
       "        67204,  72229, 126654,  76788,  75716,  98994,  30532,  85884,\n",
       "        38912,   7296,  83578,  30866,  60775,  96428,  48620,   2526,\n",
       "         8602,  80652, 106630,  26657,  66810,  53192, 107184,  95468,\n",
       "        77362, 100263,  93095,  36660,   1403,  51450,   8515,  78975,\n",
       "        95985,  57997,  84671,  54256,  86436,  73140,   3930,  51678,\n",
       "        95408,   6171,  11968,  74368,  43025,  71491,  36480,  89548,\n",
       "        58368,  70226,  78261,  10290,  85277,  39512,  66880,  12160,\n",
       "       102022,  82500,  76986,  22734,  64188,  88495, 113179,   3366,\n",
       "       101953,  72881,  86460,  98210,  25789,  28628, 110750, 134712,\n",
       "        75780,  49764,  71122,  25536,  80272,  84329,  79824, 107646,\n",
       "       111498,  24320,  89969,  14814, 108682,  42090,   5984,  83970,\n",
       "         2992,  99511,  19642,  71630,  88884, 110374,  27489,  36670,\n",
       "       106968,  69168,  65696,  72424,  51775,  42094,  27128, 101016,\n",
       "        73636,  54529,  10472, 116234,  50880,  78568])"
      ]
     },
     "execution_count": 22,
     "metadata": {},
     "output_type": "execute_result"
    }
   ],
   "source": [
    "data['Charges Amount'].unique()"
   ]
  },
  {
   "cell_type": "code",
   "execution_count": 23,
   "id": "c2ce5147-6a8d-4e72-9844-85021d916241",
   "metadata": {},
   "outputs": [
    {
     "data": {
      "text/plain": [
       "array(['M', 'S', 'E'], dtype=object)"
      ]
     },
     "execution_count": 23,
     "metadata": {},
     "output_type": "execute_result"
    }
   ],
   "source": [
    "data['Marital Status'].unique()"
   ]
  },
  {
   "cell_type": "code",
   "execution_count": 24,
   "id": "fa41e1bc-957e-4718-b749-a0965eaed7ca",
   "metadata": {},
   "outputs": [
    {
     "data": {
      "text/plain": [
       "array(['17000', '5000', '13000', '15000', '12500', '0', '16000', '37000',\n",
       "       '4000', '19000', '22500', '21000', '52500', '18500', '10000',\n",
       "       '21500', '18000', '13500', '11000', '3000', '38500', '20000',\n",
       "       '5500', '42500', '23000', '34000', '25000', '26000', '2000',\n",
       "       '22000', '9000', '26500', '20500', '7000', '12000', '14000',\n",
       "       '31000', '8000', '28000', '32000', '19500', '47500', '16200',\n",
       "       '36000', '27000', '32300', '30000', '24000', '8500', '16500',\n",
       "       '29000', '6000', '3500', '1000', '29500', '17500', '35000',\n",
       "       '23500', '15500', '34500', '10500', '25500', '30500', '6500',\n",
       "       '10800', '32500', '40000', '41000', '9500', '13150', '33000',\n",
       "       '24500', '7500', '6600', '39000', '56000', '16800', '45000',\n",
       "       '28500', '4500', '16300', '66000', '11500', '14500', '11200',\n",
       "       '44000', '69000', '27500', '18724', '37500', '13300', '38000',\n",
       "       '21700', '13700', '52000', '28800', '2500', '19900', '64000',\n",
       "       '33500', '26300', '35500', '14757', '11600', '42000', '20800',\n",
       "       '10600', '15867', '16617', '24600', '13100', '62000', '31500',\n",
       "       '15400', '48000', '49000', '29823', '17700', '335000', '500',\n",
       "       '20700', '15779', '54000', '33700', '23600', '11400', '58000',\n",
       "       '18300', '20524', '12250', '41500', '34100', '3300', '76000',\n",
       "       '12900', '18900', '20900', '50000', '60000', '7200', '1500',\n",
       "       '27200', '27800', '8700', '7700', '43000', '55000', '14100',\n",
       "       '40500', '14700', '45500', '19800', '16486', '37200', '68000',\n",
       "       '17200', '22800', '19400', ' ', '10200', '2700', '8800', '46000',\n",
       "       '57500', '38300', '14800', '36700', '22550', '36500', '12800',\n",
       "       '18600', '123000', '19300', '31800', '47000', '30596', '45133',\n",
       "       '43500', '18200', '10700', '21300', '27300', '18400', '80000',\n",
       "       '23200', '23400', '11800', '16440', '17800', '14400', '65000',\n",
       "       '25700', '7058', '31400', '22750', '12200', '20021', '13800',\n",
       "       '36057', '39500', '7600', '12674', '14651', '15700', '21100',\n",
       "       '16900', '39900', '30300', '24200', '41400', '22156', '46500',\n",
       "       '51000', '12700', '6800', '3264', '9200', '21200', '1800', '20300',\n",
       "       '5200', '31071', '8889', '49216', '15800', '6100', '7800', '26570',\n",
       "       '11900', '19200', '41300', '43800', '16400', '44500', '42800',\n",
       "       '18700', '24700', '35800', '33690', '42026', '23700', '4460',\n",
       "       '12600', '17300', '24876', '35200', '14300', '42300', '10067',\n",
       "       '15600', '26700', '59000', '25200', '17100', '39400', '57000',\n",
       "       '17650', '4290', '16600', '30800', '11490', '6300', '8600',\n",
       "       '27700', '9800', '15900', '62500', '25850', '53000', '23300',\n",
       "       '47700', '29700', '38200', '21332', '7100', '98000', '26629',\n",
       "       '7775', '120000', '14725', '38811', '24800', '8300', '16956',\n",
       "       '11700', '28339', '48500', '20100', '77000', '13400', '9900',\n",
       "       '29800', '18800', '28600', '11100', '17600', '61000', '75000',\n",
       "       '19700', '8400', '50200', '71000', '13200', '13600', '43752',\n",
       "       '10210'], dtype=object)"
      ]
     },
     "execution_count": 24,
     "metadata": {},
     "output_type": "execute_result"
    }
   ],
   "source": [
    "data['Saving Amount'].unique()"
   ]
  },
  {
   "cell_type": "code",
   "execution_count": 25,
   "id": "92f08a5c-4149-43a6-ac68-590448c39d8a",
   "metadata": {},
   "outputs": [
    {
     "data": {
      "text/plain": [
       "array([ 26000.,  17000.,  52000.,  30000.,  29000.,  40000.,  54000.,\n",
       "        27000.,  33000.,  45000.,  28000.,  31000.,  27500.,  55000.,\n",
       "        31500.,  37000.,  35000.,  13500.,  50000.,  24000.,  21500.,\n",
       "        51000.,  22500.,  41000.,  34000.,  36000.,  20000.,  19500.,\n",
       "        21000.,  17500.,  23000.,  75000.,  18500.,  66000.,  25000.,\n",
       "        29500.,  24500.,  25500.,  15000.,  38000.,  46000.,  19000.,\n",
       "        32000.,  30500.,  22000.,  43000.,  26500.,  47000.,  12000.,\n",
       "        49000.,  39000.,  44000.,  28500.,  17800.,  39500.,  80000.,\n",
       "        85000.,  82000.,  57000.,  11700.,  60000.,  70000.,  16000.,\n",
       "        41500.,  33500.,  34500.,  48000.,  37500.,  42000.,  16500.,\n",
       "        22600.,  50500.,  78000.,  15500.,  84500.,  38500.,  18000.,\n",
       "        14500.,  20500.,  23500.,  81000.,  58000.,  29200.,  65000.,\n",
       "        59000.,  61000.,  47500.,  68000.,  32500.,  53000.,  43500.,\n",
       "        35500.,  44500.,  29300.,  40500.,  46500.,  63500.,  13000.,\n",
       "        83000.,  28800.,  86000.,  42500.,  38700.,  14000.,  33200.,\n",
       "       100000.,  16700.,  90000.,  54500.,  62000.,  64000.,  73000.,\n",
       "        48300.,  36500.,  56000.,  32400.,  10500.,  69000.,  72000.,\n",
       "        23300.,  49500., 108526.,  16200.,  12100.,  18700.,   9500.,\n",
       "        52500.,  45900.,  27700.,  23400.,  45500.,  39300.,  87000.,\n",
       "        63000.,  19200.,  29400.,  67000.,  36900.,  97000.,  28200.,\n",
       "        14600.,  56500.,  12300.,  48500.,  62500.,  59300.,  21400.,\n",
       "        22300.,  28700.,  88000.,  61500.,  21700.,   8000.,  37750.,\n",
       "        25900.,  34700.,  71000.,  12500.,  27300.,  13100.,  34100.,\n",
       "        10000.,  87500.,  24100.,  29700.,  41800.,  68500.,  32800.,\n",
       "        23800.,  92087.,  32200.,  20900.,   9000.,  59500.,  23700.,\n",
       "        73500., 109000.,  57500.,  19800.,  47800.,  37200.,  53500.,\n",
       "        25750.,  35600.,  36700.,  18600.,  15300.,  56069.,  41200.,\n",
       "        55500.,  20100.,  43200.,  58500.,  21800.,  16450.,  33300.,\n",
       "        51500.,  95000.,  24700.,  33700.,  84000.,  88596.,  11000.,\n",
       "        19300.,  83500.,  74000.,  24800.,  20700.,  77000.,  24600.,\n",
       "        26600.,   8800.,  80500.,  24200.,  11500.,  47700.,  79000.,\n",
       "        63560.,  26100.,  39600.,  31800.,  49300.,  60500.,  41600.,\n",
       "        13600.,  91000.,  24250.,  54600.,  65800., 105000.,  76000.,\n",
       "        20400.,  34400.,  39800.,  17400.,  38900.,  17200.,  14300.,\n",
       "        22100.,  44300.,  36100.,  27600., 230000.,  13900.,  18200.,\n",
       "        22200.,  40800.,  10400.,  23200.,  42600.,  52200.,  21035.,\n",
       "        31300.,  27200.,  42300.,  30812.,  31200.,  20300.,   4000.,\n",
       "        30400.,  55055.,  16800.,  53900.,  19700.,  38100.,  48700.,\n",
       "        98000.,  47600.,  17031.,  27900.,  22700.,  47200.,  22540.,\n",
       "        37400.,  37700.,  39700.,  32100.,  32700.,  18800.,  28600.,\n",
       "        25800.,  14800.,  38300.,  64500.,  55600.,  25200.,  96500.,\n",
       "        26700.,  20350.,  46507.,  38400.,  71600.,  24300.,  36400.,\n",
       "        14200.,  34600.,  24150.,  41700.,  52300.,  25300.,  11800.,\n",
       "        15900.,  27793.,  38225.,  39400., 150000.,  45240.,  20800.,\n",
       "        17900.,  67500.,  35400.,  65500.,  42800.,   7500.,  30300.,\n",
       "       155000.,  19900.,  25100.,  77300.,  47400.,  26900.,  21200.,\n",
       "        16400.,  28900.,  44700.,  45800.,  33600.,  19400.,  46800.,\n",
       "        15790.])"
      ]
     },
     "execution_count": 25,
     "metadata": {},
     "output_type": "execute_result"
    }
   ],
   "source": [
    "data['Expenses'].unique()"
   ]
  },
  {
   "cell_type": "markdown",
   "id": "bf29a4a1-920c-48b1-a05e-aa708421d077",
   "metadata": {},
   "source": [
    "### Handling Categorical Columns"
   ]
  },
  {
   "cell_type": "code",
   "execution_count": 26,
   "id": "395741ae-85d3-4523-9c15-b5a281a51bc4",
   "metadata": {},
   "outputs": [
    {
     "data": {
      "text/html": [
       "<div>\n",
       "<style scoped>\n",
       "    .dataframe tbody tr th:only-of-type {\n",
       "        vertical-align: middle;\n",
       "    }\n",
       "\n",
       "    .dataframe tbody tr th {\n",
       "        vertical-align: top;\n",
       "    }\n",
       "\n",
       "    .dataframe thead th {\n",
       "        text-align: right;\n",
       "    }\n",
       "</style>\n",
       "<table border=\"1\" class=\"dataframe\">\n",
       "  <thead>\n",
       "    <tr style=\"text-align: right;\">\n",
       "      <th></th>\n",
       "      <th>Region</th>\n",
       "      <th>Area</th>\n",
       "      <th>Branch Code</th>\n",
       "      <th>Gender</th>\n",
       "      <th>Education</th>\n",
       "      <th>Age</th>\n",
       "      <th>Age Level</th>\n",
       "      <th>Marital Status</th>\n",
       "      <th>House ownership</th>\n",
       "      <th>Total_family_members</th>\n",
       "      <th>...</th>\n",
       "      <th>who_will_earn</th>\n",
       "      <th>Loan Amount</th>\n",
       "      <th>Inst Months</th>\n",
       "      <th>Inst Amnt</th>\n",
       "      <th>Recovery Amount</th>\n",
       "      <th>Charges Amount</th>\n",
       "      <th>Tax</th>\n",
       "      <th>Project</th>\n",
       "      <th>Activity</th>\n",
       "      <th>Product</th>\n",
       "    </tr>\n",
       "  </thead>\n",
       "  <tbody>\n",
       "    <tr>\n",
       "      <th>14448</th>\n",
       "      <td>Sukkur</td>\n",
       "      <td>Jacob Abad</td>\n",
       "      <td>46501</td>\n",
       "      <td>M</td>\n",
       "      <td>Matric</td>\n",
       "      <td>59</td>\n",
       "      <td>Older (46-Above)</td>\n",
       "      <td>M</td>\n",
       "      <td>Owned</td>\n",
       "      <td>7</td>\n",
       "      <td>...</td>\n",
       "      <td>Self</td>\n",
       "      <td>500000</td>\n",
       "      <td>60</td>\n",
       "      <td>10204</td>\n",
       "      <td>416926</td>\n",
       "      <td>93550</td>\n",
       "      <td>Tax paid</td>\n",
       "      <td>Prime Minister Low Cost Housing (PM-LCH)</td>\n",
       "      <td>Addition</td>\n",
       "      <td>Housing Loan</td>\n",
       "    </tr>\n",
       "    <tr>\n",
       "      <th>1115</th>\n",
       "      <td>Lahore</td>\n",
       "      <td>Salamatpura</td>\n",
       "      <td>1749</td>\n",
       "      <td>M</td>\n",
       "      <td>Matric</td>\n",
       "      <td>45</td>\n",
       "      <td>Middle Age (30-45)</td>\n",
       "      <td>M</td>\n",
       "      <td>Rented</td>\n",
       "      <td>7</td>\n",
       "      <td>...</td>\n",
       "      <td>Other</td>\n",
       "      <td>500000</td>\n",
       "      <td>60</td>\n",
       "      <td>10204</td>\n",
       "      <td>484472</td>\n",
       "      <td>108518</td>\n",
       "      <td>Tax paid</td>\n",
       "      <td>Prime Minister Low Cost Housing (PM-LCH)</td>\n",
       "      <td>New Construction</td>\n",
       "      <td>Housing Loan</td>\n",
       "    </tr>\n",
       "    <tr>\n",
       "      <th>12660</th>\n",
       "      <td>Sheikhupura</td>\n",
       "      <td>Kamoke</td>\n",
       "      <td>1110</td>\n",
       "      <td>M</td>\n",
       "      <td>Middle</td>\n",
       "      <td>35</td>\n",
       "      <td>Middle Age (30-45)</td>\n",
       "      <td>M</td>\n",
       "      <td>NaN</td>\n",
       "      <td>9</td>\n",
       "      <td>...</td>\n",
       "      <td>NaN</td>\n",
       "      <td>500000</td>\n",
       "      <td>60</td>\n",
       "      <td>10204</td>\n",
       "      <td>500000</td>\n",
       "      <td>24323</td>\n",
       "      <td>Tax paid</td>\n",
       "      <td>Prime Minister Low Cost Housing (PM-LCH)</td>\n",
       "      <td>New Construction</td>\n",
       "      <td>Housing Loan</td>\n",
       "    </tr>\n",
       "    <tr>\n",
       "      <th>3546</th>\n",
       "      <td>Lahore</td>\n",
       "      <td>Nishtar</td>\n",
       "      <td>1747</td>\n",
       "      <td>M</td>\n",
       "      <td>Illiterate</td>\n",
       "      <td>50</td>\n",
       "      <td>Older (46-Above)</td>\n",
       "      <td>M</td>\n",
       "      <td>Rented</td>\n",
       "      <td>8</td>\n",
       "      <td>...</td>\n",
       "      <td>Other</td>\n",
       "      <td>500000</td>\n",
       "      <td>60</td>\n",
       "      <td>10204</td>\n",
       "      <td>483420</td>\n",
       "      <td>108518</td>\n",
       "      <td>Tax paid</td>\n",
       "      <td>Prime Minister Low Cost Housing (PM-LCH)</td>\n",
       "      <td>New Construction</td>\n",
       "      <td>Housing Loan</td>\n",
       "    </tr>\n",
       "    <tr>\n",
       "      <th>11795</th>\n",
       "      <td>Karachi</td>\n",
       "      <td>Saddar</td>\n",
       "      <td>35103</td>\n",
       "      <td>F</td>\n",
       "      <td>Primary</td>\n",
       "      <td>39</td>\n",
       "      <td>Middle Age (30-45)</td>\n",
       "      <td>M</td>\n",
       "      <td>Owned</td>\n",
       "      <td>7</td>\n",
       "      <td>...</td>\n",
       "      <td>Self</td>\n",
       "      <td>500000</td>\n",
       "      <td>60</td>\n",
       "      <td>10204</td>\n",
       "      <td>325184</td>\n",
       "      <td>72969</td>\n",
       "      <td>Tax paid</td>\n",
       "      <td>Prime Minister Low Cost Housing (PM-LCH)</td>\n",
       "      <td>Addition</td>\n",
       "      <td>Housing Loan</td>\n",
       "    </tr>\n",
       "  </tbody>\n",
       "</table>\n",
       "<p>5 rows × 27 columns</p>\n",
       "</div>"
      ],
      "text/plain": [
       "            Region         Area  Branch Code Gender   Education  Age  \\\n",
       "14448       Sukkur   Jacob Abad        46501      M      Matric   59   \n",
       "1115        Lahore  Salamatpura         1749      M      Matric   45   \n",
       "12660  Sheikhupura       Kamoke         1110      M      Middle   35   \n",
       "3546        Lahore      Nishtar         1747      M  Illiterate   50   \n",
       "11795      Karachi       Saddar        35103      F     Primary   39   \n",
       "\n",
       "                Age Level Marital Status House ownership  \\\n",
       "14448    Older (46-Above)              M           Owned   \n",
       "1115   Middle Age (30-45)              M          Rented   \n",
       "12660  Middle Age (30-45)              M             NaN   \n",
       "3546     Older (46-Above)              M          Rented   \n",
       "11795  Middle Age (30-45)              M           Owned   \n",
       "\n",
       "       Total_family_members  ...  who_will_earn Loan Amount  Inst Months  \\\n",
       "14448                     7  ...           Self      500000           60   \n",
       "1115                      7  ...          Other      500000           60   \n",
       "12660                     9  ...            NaN      500000           60   \n",
       "3546                      8  ...          Other      500000           60   \n",
       "11795                     7  ...           Self      500000           60   \n",
       "\n",
       "      Inst Amnt Recovery Amount  Charges Amount      Tax   \\\n",
       "14448     10204          416926           93550  Tax paid   \n",
       "1115      10204          484472          108518  Tax paid   \n",
       "12660     10204          500000           24323  Tax paid   \n",
       "3546      10204          483420          108518  Tax paid   \n",
       "11795     10204          325184           72969  Tax paid   \n",
       "\n",
       "                                        Project          Activity  \\\n",
       "14448  Prime Minister Low Cost Housing (PM-LCH)          Addition   \n",
       "1115   Prime Minister Low Cost Housing (PM-LCH)  New Construction   \n",
       "12660  Prime Minister Low Cost Housing (PM-LCH)  New Construction   \n",
       "3546   Prime Minister Low Cost Housing (PM-LCH)  New Construction   \n",
       "11795  Prime Minister Low Cost Housing (PM-LCH)          Addition   \n",
       "\n",
       "            Product  \n",
       "14448  Housing Loan  \n",
       "1115   Housing Loan  \n",
       "12660  Housing Loan  \n",
       "3546   Housing Loan  \n",
       "11795  Housing Loan  \n",
       "\n",
       "[5 rows x 27 columns]"
      ]
     },
     "execution_count": 26,
     "metadata": {},
     "output_type": "execute_result"
    }
   ],
   "source": [
    "data.sample(5)"
   ]
  },
  {
   "cell_type": "code",
   "execution_count": 27,
   "id": "815a9bbb-30e1-473b-a099-01b84558a929",
   "metadata": {},
   "outputs": [
    {
     "data": {
      "text/plain": [
       "Region                     0\n",
       "Area                       0\n",
       "Branch Code                0\n",
       "Gender                     0\n",
       "Education                  0\n",
       "Age                        0\n",
       "Age Level                  0\n",
       "Marital Status             0\n",
       "House ownership         2785\n",
       "Total_family_members       0\n",
       "No_of_earning_hands        0\n",
       "Source of Incom         2785\n",
       "Incom                      0\n",
       "Monthly_Saving             0\n",
       "Saving Amount              0\n",
       "Expenses                   0\n",
       "Social behavior         2785\n",
       "who_will_earn           2850\n",
       "Loan Amount                0\n",
       "Inst Months                0\n",
       "Inst Amnt                  0\n",
       "Recovery Amount            0\n",
       "Charges Amount             0\n",
       "Tax                        0\n",
       "Project                    0\n",
       "Activity                   0\n",
       "Product                    0\n",
       "dtype: int64"
      ]
     },
     "execution_count": 27,
     "metadata": {},
     "output_type": "execute_result"
    }
   ],
   "source": [
    "data.isnull().sum()"
   ]
  },
  {
   "cell_type": "code",
   "execution_count": 28,
   "id": "970b18d3-d665-4911-82cd-03a74270242e",
   "metadata": {},
   "outputs": [],
   "source": [
    "data['Source of Incom'] =data['Source of Incom'].fillna(data['Source of Incom'].mode()[0])\n",
    "data['House ownership'] =data['House ownership'].fillna(data['House ownership'].mode()[0])\n",
    "data['Social behavior'] =data['Social behavior'].fillna(data['Social behavior'].mode()[0])\n",
    "data['who_will_earn'] =data['who_will_earn'].fillna(data['who_will_earn'].mode()[0])"
   ]
  },
  {
   "cell_type": "code",
   "execution_count": 29,
   "id": "963766a9-a03f-4e92-a8fb-463a4f469b67",
   "metadata": {},
   "outputs": [
    {
     "data": {
      "text/plain": [
       "Region                  0\n",
       "Area                    0\n",
       "Branch Code             0\n",
       "Gender                  0\n",
       "Education               0\n",
       "Age                     0\n",
       "Age Level               0\n",
       "Marital Status          0\n",
       "House ownership         0\n",
       "Total_family_members    0\n",
       "No_of_earning_hands     0\n",
       "Source of Incom         0\n",
       "Incom                   0\n",
       "Monthly_Saving          0\n",
       "Saving Amount           0\n",
       "Expenses                0\n",
       "Social behavior         0\n",
       "who_will_earn           0\n",
       "Loan Amount             0\n",
       "Inst Months             0\n",
       "Inst Amnt               0\n",
       "Recovery Amount         0\n",
       "Charges Amount          0\n",
       "Tax                     0\n",
       "Project                 0\n",
       "Activity                0\n",
       "Product                 0\n",
       "dtype: int64"
      ]
     },
     "execution_count": 29,
     "metadata": {},
     "output_type": "execute_result"
    }
   ],
   "source": [
    "data.isnull().sum()"
   ]
  },
  {
   "cell_type": "code",
   "execution_count": 30,
   "id": "5f35613a-c293-4cc5-b7db-bb647b986fb3",
   "metadata": {},
   "outputs": [
    {
     "data": {
      "text/html": [
       "<div>\n",
       "<style scoped>\n",
       "    .dataframe tbody tr th:only-of-type {\n",
       "        vertical-align: middle;\n",
       "    }\n",
       "\n",
       "    .dataframe tbody tr th {\n",
       "        vertical-align: top;\n",
       "    }\n",
       "\n",
       "    .dataframe thead th {\n",
       "        text-align: right;\n",
       "    }\n",
       "</style>\n",
       "<table border=\"1\" class=\"dataframe\">\n",
       "  <thead>\n",
       "    <tr style=\"text-align: right;\">\n",
       "      <th></th>\n",
       "      <th>Region</th>\n",
       "      <th>Area</th>\n",
       "      <th>Branch Code</th>\n",
       "      <th>Gender</th>\n",
       "      <th>Education</th>\n",
       "      <th>Age</th>\n",
       "      <th>Age Level</th>\n",
       "      <th>Marital Status</th>\n",
       "      <th>House ownership</th>\n",
       "      <th>Total_family_members</th>\n",
       "      <th>...</th>\n",
       "      <th>who_will_earn</th>\n",
       "      <th>Loan Amount</th>\n",
       "      <th>Inst Months</th>\n",
       "      <th>Inst Amnt</th>\n",
       "      <th>Recovery Amount</th>\n",
       "      <th>Charges Amount</th>\n",
       "      <th>Tax</th>\n",
       "      <th>Project</th>\n",
       "      <th>Activity</th>\n",
       "      <th>Product</th>\n",
       "    </tr>\n",
       "  </thead>\n",
       "  <tbody>\n",
       "    <tr>\n",
       "      <th>0</th>\n",
       "      <td>Lahore</td>\n",
       "      <td>Thokar</td>\n",
       "      <td>1709</td>\n",
       "      <td>M</td>\n",
       "      <td>Illiterate</td>\n",
       "      <td>56</td>\n",
       "      <td>Older (46-Above)</td>\n",
       "      <td>M</td>\n",
       "      <td>Rented</td>\n",
       "      <td>9</td>\n",
       "      <td>...</td>\n",
       "      <td>Self</td>\n",
       "      <td>800000</td>\n",
       "      <td>60</td>\n",
       "      <td>16327</td>\n",
       "      <td>429715</td>\n",
       "      <td>95776</td>\n",
       "      <td>Tax paid</td>\n",
       "      <td>Prime Minister Low Cost Housing (PM-LCH)</td>\n",
       "      <td>New Construction</td>\n",
       "      <td>Housing Loan</td>\n",
       "    </tr>\n",
       "  </tbody>\n",
       "</table>\n",
       "<p>1 rows × 27 columns</p>\n",
       "</div>"
      ],
      "text/plain": [
       "   Region    Area  Branch Code Gender   Education  Age         Age Level  \\\n",
       "0  Lahore  Thokar         1709      M  Illiterate   56  Older (46-Above)   \n",
       "\n",
       "  Marital Status House ownership  Total_family_members  ...  who_will_earn  \\\n",
       "0              M          Rented                     9  ...           Self   \n",
       "\n",
       "  Loan Amount  Inst Months Inst Amnt Recovery Amount  Charges Amount  \\\n",
       "0      800000           60     16327          429715           95776   \n",
       "\n",
       "       Tax                                    Project          Activity  \\\n",
       "0  Tax paid  Prime Minister Low Cost Housing (PM-LCH)  New Construction   \n",
       "\n",
       "        Product  \n",
       "0  Housing Loan  \n",
       "\n",
       "[1 rows x 27 columns]"
      ]
     },
     "execution_count": 30,
     "metadata": {},
     "output_type": "execute_result"
    }
   ],
   "source": [
    "data.head(1)"
   ]
  },
  {
   "cell_type": "markdown",
   "id": "feddf727-1e0e-44f8-ab6f-d5cadc6b12f7",
   "metadata": {},
   "source": [
    "data['Gender'] = data['Gender'].map({'Male':1,'Female':0}).astype('int')\n",
    "data['Married'] = data['Married'].map({'Yes':1,'No':0}).astype('int')\n",
    "data['Education'] = data['Education'].map({'Graduate':1,'Not Graduate':0}).astype('int')\n",
    "data['Self_Employed'] = data['Self_Employed'].map({'Yes':1,'No':0}).astype('int')\n",
    "data['Property_Area'] = data['Property_Area'].map({'Rural':0,'Semiurban':2,'Urban':1}).astype('int')\n",
    "data['Loan_Status'] = data['Loan_Status'].map({'Y':1,'N':0}).astype('int')\n"
   ]
  },
  {
   "cell_type": "code",
   "execution_count": 31,
   "id": "e28549c5-1e61-487a-b018-3cbcc8e424fe",
   "metadata": {},
   "outputs": [
    {
     "data": {
      "text/html": [
       "<div>\n",
       "<style scoped>\n",
       "    .dataframe tbody tr th:only-of-type {\n",
       "        vertical-align: middle;\n",
       "    }\n",
       "\n",
       "    .dataframe tbody tr th {\n",
       "        vertical-align: top;\n",
       "    }\n",
       "\n",
       "    .dataframe thead th {\n",
       "        text-align: right;\n",
       "    }\n",
       "</style>\n",
       "<table border=\"1\" class=\"dataframe\">\n",
       "  <thead>\n",
       "    <tr style=\"text-align: right;\">\n",
       "      <th></th>\n",
       "      <th>Region</th>\n",
       "      <th>Area</th>\n",
       "      <th>Branch Code</th>\n",
       "      <th>Gender</th>\n",
       "      <th>Education</th>\n",
       "      <th>Age</th>\n",
       "      <th>Age Level</th>\n",
       "      <th>Marital Status</th>\n",
       "      <th>House ownership</th>\n",
       "      <th>Total_family_members</th>\n",
       "      <th>...</th>\n",
       "      <th>who_will_earn</th>\n",
       "      <th>Loan Amount</th>\n",
       "      <th>Inst Months</th>\n",
       "      <th>Inst Amnt</th>\n",
       "      <th>Recovery Amount</th>\n",
       "      <th>Charges Amount</th>\n",
       "      <th>Tax</th>\n",
       "      <th>Project</th>\n",
       "      <th>Activity</th>\n",
       "      <th>Product</th>\n",
       "    </tr>\n",
       "  </thead>\n",
       "  <tbody>\n",
       "    <tr>\n",
       "      <th>0</th>\n",
       "      <td>Bahawalnagar</td>\n",
       "      <td>Vehari</td>\n",
       "      <td>2701</td>\n",
       "      <td>M</td>\n",
       "      <td>Primary</td>\n",
       "      <td>37</td>\n",
       "      <td>Middle Age (30-45)</td>\n",
       "      <td>M</td>\n",
       "      <td>Owned</td>\n",
       "      <td>4</td>\n",
       "      <td>...</td>\n",
       "      <td>Self</td>\n",
       "      <td>500000</td>\n",
       "      <td>60</td>\n",
       "      <td>10204</td>\n",
       "      <td>325179</td>\n",
       "      <td>72969</td>\n",
       "      <td>Tax paid</td>\n",
       "      <td>Prime Minister Low Cost Housing (PM-LCH)</td>\n",
       "      <td>New Construction</td>\n",
       "      <td>Housing Loan</td>\n",
       "    </tr>\n",
       "    <tr>\n",
       "      <th>1</th>\n",
       "      <td>Chakwal</td>\n",
       "      <td>Talagang</td>\n",
       "      <td>2904</td>\n",
       "      <td>M</td>\n",
       "      <td>Matric</td>\n",
       "      <td>42</td>\n",
       "      <td>Middle Age (30-45)</td>\n",
       "      <td>M</td>\n",
       "      <td>Owned</td>\n",
       "      <td>5</td>\n",
       "      <td>...</td>\n",
       "      <td>Self</td>\n",
       "      <td>1000000</td>\n",
       "      <td>60</td>\n",
       "      <td>20409</td>\n",
       "      <td>304216</td>\n",
       "      <td>63614</td>\n",
       "      <td>Tax paid</td>\n",
       "      <td>Prime Minister Low Cost Housing (PM-LCH)</td>\n",
       "      <td>New Construction</td>\n",
       "      <td>Housing Loan</td>\n",
       "    </tr>\n",
       "    <tr>\n",
       "      <th>2</th>\n",
       "      <td>Mianwali</td>\n",
       "      <td>Kala Bagh</td>\n",
       "      <td>3511</td>\n",
       "      <td>F</td>\n",
       "      <td>Primary</td>\n",
       "      <td>33</td>\n",
       "      <td>Middle Age (30-45)</td>\n",
       "      <td>M</td>\n",
       "      <td>Owned</td>\n",
       "      <td>3</td>\n",
       "      <td>...</td>\n",
       "      <td>Self</td>\n",
       "      <td>500000</td>\n",
       "      <td>60</td>\n",
       "      <td>10204</td>\n",
       "      <td>441679</td>\n",
       "      <td>99163</td>\n",
       "      <td>Tax paid</td>\n",
       "      <td>Prime Minister Low Cost Housing (PM-LCH)</td>\n",
       "      <td>New Construction</td>\n",
       "      <td>Housing Loan</td>\n",
       "    </tr>\n",
       "    <tr>\n",
       "      <th>3</th>\n",
       "      <td>Kasur</td>\n",
       "      <td>Pattoki</td>\n",
       "      <td>1804</td>\n",
       "      <td>M</td>\n",
       "      <td>Middle</td>\n",
       "      <td>26</td>\n",
       "      <td>Young (19-29)</td>\n",
       "      <td>M</td>\n",
       "      <td>Owned</td>\n",
       "      <td>6</td>\n",
       "      <td>...</td>\n",
       "      <td>Other</td>\n",
       "      <td>500000</td>\n",
       "      <td>60</td>\n",
       "      <td>10204</td>\n",
       "      <td>354190</td>\n",
       "      <td>78582</td>\n",
       "      <td>Tax paid</td>\n",
       "      <td>Prime Minister Low Cost Housing (PM-LCH)</td>\n",
       "      <td>New Construction</td>\n",
       "      <td>Housing Loan</td>\n",
       "    </tr>\n",
       "    <tr>\n",
       "      <th>4</th>\n",
       "      <td>Attock</td>\n",
       "      <td>Attock</td>\n",
       "      <td>2819</td>\n",
       "      <td>F</td>\n",
       "      <td>Intermediate</td>\n",
       "      <td>25</td>\n",
       "      <td>Young (19-29)</td>\n",
       "      <td>M</td>\n",
       "      <td>Rented</td>\n",
       "      <td>4</td>\n",
       "      <td>...</td>\n",
       "      <td>Self</td>\n",
       "      <td>400000</td>\n",
       "      <td>60</td>\n",
       "      <td>8164</td>\n",
       "      <td>291909</td>\n",
       "      <td>65868</td>\n",
       "      <td>Tax not paid</td>\n",
       "      <td>Prime Minister Low Cost Housing (PM-LCH)</td>\n",
       "      <td>New Construction</td>\n",
       "      <td>Housing Loan</td>\n",
       "    </tr>\n",
       "  </tbody>\n",
       "</table>\n",
       "<p>5 rows × 27 columns</p>\n",
       "</div>"
      ],
      "text/plain": [
       "         Region       Area  Branch Code Gender     Education  Age  \\\n",
       "0  Bahawalnagar     Vehari         2701      M       Primary   37   \n",
       "1       Chakwal   Talagang         2904      M        Matric   42   \n",
       "2      Mianwali  Kala Bagh         3511      F       Primary   33   \n",
       "3         Kasur    Pattoki         1804      M        Middle   26   \n",
       "4        Attock     Attock         2819      F  Intermediate   25   \n",
       "\n",
       "            Age Level Marital Status House ownership  Total_family_members  \\\n",
       "0  Middle Age (30-45)              M           Owned                     4   \n",
       "1  Middle Age (30-45)              M           Owned                     5   \n",
       "2  Middle Age (30-45)              M           Owned                     3   \n",
       "3       Young (19-29)              M           Owned                     6   \n",
       "4       Young (19-29)              M          Rented                     4   \n",
       "\n",
       "   ...  who_will_earn Loan Amount  Inst Months Inst Amnt  Recovery Amount  \\\n",
       "0  ...           Self      500000           60     10204           325179   \n",
       "1  ...           Self     1000000           60     20409           304216   \n",
       "2  ...           Self      500000           60     10204           441679   \n",
       "3  ...          Other      500000           60     10204           354190   \n",
       "4  ...           Self      400000           60      8164           291909   \n",
       "\n",
       "   Charges Amount          Tax                                    Project  \\\n",
       "0           72969      Tax paid  Prime Minister Low Cost Housing (PM-LCH)   \n",
       "1           63614      Tax paid  Prime Minister Low Cost Housing (PM-LCH)   \n",
       "2           99163      Tax paid  Prime Minister Low Cost Housing (PM-LCH)   \n",
       "3           78582      Tax paid  Prime Minister Low Cost Housing (PM-LCH)   \n",
       "4           65868  Tax not paid  Prime Minister Low Cost Housing (PM-LCH)   \n",
       "\n",
       "           Activity       Product  \n",
       "0  New Construction  Housing Loan  \n",
       "1  New Construction  Housing Loan  \n",
       "2  New Construction  Housing Loan  \n",
       "3  New Construction  Housing Loan  \n",
       "4  New Construction  Housing Loan  \n",
       "\n",
       "[5 rows x 27 columns]"
      ]
     },
     "execution_count": 31,
     "metadata": {},
     "output_type": "execute_result"
    }
   ],
   "source": [
    "import pandas as pd\n",
    "from catboost import CatBoostClassifier\n",
    "\n",
    "# Load the test CSV\n",
    "test_data = pd.read_csv('test_data.csv')\n",
    "\n",
    "# Show the first few rows\n",
    "test_data.head()\n"
   ]
  },
  {
   "cell_type": "code",
   "execution_count": 32,
   "id": "66da6e0e-36d9-4b32-80a6-b1741481b911",
   "metadata": {},
   "outputs": [
    {
     "data": {
      "text/plain": [
       "Region                  0\n",
       "Area                    0\n",
       "Branch Code             0\n",
       "Gender                  0\n",
       "Education               0\n",
       "Age                     0\n",
       "Age Level               0\n",
       "Marital Status          0\n",
       "House ownership         0\n",
       "Total_family_members    0\n",
       "No_of_earning_hands     0\n",
       "Source of Incom         0\n",
       "Incom                   0\n",
       "Monthly_Saving          0\n",
       "Saving Amount           0\n",
       "Expenses                0\n",
       "Social behavior         0\n",
       "who_will_earn           0\n",
       "Loan Amount             0\n",
       "Inst Months             0\n",
       "Inst Amnt               0\n",
       "Recovery Amount         0\n",
       "Charges Amount          0\n",
       "Tax                     0\n",
       "Project                 0\n",
       "Activity                0\n",
       "Product                 0\n",
       "dtype: int64"
      ]
     },
     "execution_count": 32,
     "metadata": {},
     "output_type": "execute_result"
    }
   ],
   "source": [
    "data.isnull().sum()"
   ]
  },
  {
   "cell_type": "code",
   "execution_count": 33,
   "id": "fb4376fd-f38d-42c2-9fe8-1a07a4d3df4c",
   "metadata": {},
   "outputs": [],
   "source": [
    "data['Incom'] =data['Incom'].fillna(data['Incom'].mode()[0])\n",
    "data['Monthly_Saving'] =data['Monthly_Saving'].fillna(data['Monthly_Saving'].mode()[0])\n",
    "data['Expenses'] =data['Expenses'].fillna(data['Expenses'].mode()[0])\n",
    "data['Saving Amount'] =data['Saving Amount'].fillna(data['Saving Amount'].mode()[0])\n"
   ]
  },
  {
   "cell_type": "code",
   "execution_count": 34,
   "id": "9b8a810d-7127-4bc2-9ca7-12a1e60bac88",
   "metadata": {},
   "outputs": [],
   "source": [
    "data['Source of Incom'] =data['Source of Incom'].fillna(data['Source of Incom'].mode()[0])\n",
    "data['House ownership'] =data['House ownership'].fillna(data['House ownership'].mode()[0])\n",
    "data['Social behavior'] =data['Social behavior'].fillna(data['Social behavior'].mode()[0])\n",
    "data['who_will_earn'] =data['who_will_earn'].fillna(data['who_will_earn'].mode()[0])\n",
    "\n"
   ]
  },
  {
   "cell_type": "markdown",
   "id": "274bad1d-2207-4194-81a5-2103a25812ef",
   "metadata": {},
   "source": [
    "\n",
    "### Store Feature Matrix In X And Response (Target) In Vector y"
   ]
  },
  {
   "cell_type": "code",
   "execution_count": 35,
   "id": "b5a3794e-0c44-4612-820c-2b2f995f4a68",
   "metadata": {},
   "outputs": [
    {
     "data": {
      "text/plain": [
       "array(['Tax paid', 'Tax not paid'], dtype=object)"
      ]
     },
     "execution_count": 35,
     "metadata": {},
     "output_type": "execute_result"
    }
   ],
   "source": [
    "data['Tax '].unique()"
   ]
  },
  {
   "cell_type": "code",
   "execution_count": 36,
   "id": "f59110d4-dc72-4f45-bc89-bdb2a0a2d6b0",
   "metadata": {},
   "outputs": [
    {
     "name": "stdout",
     "output_type": "stream",
     "text": [
      "Index(['Region', 'Area', 'Branch Code', 'Gender', 'Education', 'Age',\n",
      "       'Age Level', 'Marital Status', 'House ownership',\n",
      "       'Total_family_members', 'No_of_earning_hands', 'Source of Incom',\n",
      "       'Incom', 'Monthly_Saving', 'Saving Amount', 'Expenses',\n",
      "       'Social behavior', 'who_will_earn', 'Loan Amount', 'Inst Months',\n",
      "       'Inst Amnt', 'Recovery Amount', 'Charges Amount', 'Tax ', 'Project',\n",
      "       'Activity', 'Product'],\n",
      "      dtype='object')\n"
     ]
    }
   ],
   "source": [
    "print(data.columns)"
   ]
  },
  {
   "cell_type": "code",
   "execution_count": 37,
   "id": "7307386a-475f-4e6d-8e4d-1343155d11f5",
   "metadata": {},
   "outputs": [
    {
     "name": "stdout",
     "output_type": "stream",
     "text": [
      "                 Region         Area  Branch Code Gender   Education  Age  \\\n",
      "0                Lahore       Thokar         1709      M  Illiterate   56   \n",
      "1           Sheikhupura      Muridke         2102      M      Matric   33   \n",
      "2          Bahawalnagar     Jahanian         2305      F  Illiterate   37   \n",
      "3                 Kasur  Theeng More         6414      M      Middle   44   \n",
      "4          Bahawalnagar    Chishtian          214      M  Illiterate   37   \n",
      "...                 ...          ...          ...    ...         ...  ...   \n",
      "19672              FATA       Khyber         8302      M      Matric   46   \n",
      "19673            Lahore     Madhulal         1739      M      Middle   34   \n",
      "19674  Gilgit Baltistan       Ghizer        51203      M      Matric   42   \n",
      "19675             Kasur  Theeng More         1824      F  Illiterate   40   \n",
      "19676          Mianwali    Kala Bagh         3511      M      Matric   40   \n",
      "\n",
      "                Age Level Marital Status House ownership  \\\n",
      "0        Older (46-Above)              M          Rented   \n",
      "1      Middle Age (30-45)              M          Rented   \n",
      "2      Middle Age (30-45)              M           Owned   \n",
      "3      Middle Age (30-45)              M           Owned   \n",
      "4      Middle Age (30-45)              M          Rented   \n",
      "...                   ...            ...             ...   \n",
      "19672    Older (46-Above)              M           Owned   \n",
      "19673  Middle Age (30-45)              M           Owned   \n",
      "19674  Middle Age (30-45)              M           Owned   \n",
      "19675  Middle Age (30-45)              M           Owned   \n",
      "19676  Middle Age (30-45)              M           Owned   \n",
      "\n",
      "       Total_family_members  ...  Social behavior who_will_earn  Loan Amount  \\\n",
      "0                         9  ...             Good          Self       800000   \n",
      "1                         6  ...             Good          Self       500000   \n",
      "2                         6  ...             Good          Self       500000   \n",
      "3                         7  ...             Good          Self       200000   \n",
      "4                         7  ...        Very_good          Self       500000   \n",
      "...                     ...  ...              ...           ...          ...   \n",
      "19672                     7  ...             Good          Self       400000   \n",
      "19673                     9  ...             Good          Self       500000   \n",
      "19674                     5  ...             Good          Self       500000   \n",
      "19675                     7  ...             Good          Self       500000   \n",
      "19676                     5  ...             Good          Self       800000   \n",
      "\n",
      "      Inst Months Inst Amnt  Recovery Amount Charges Amount  \\\n",
      "0              60     16327           429715          95776   \n",
      "1              60     10204           458315         102905   \n",
      "2              60     10204           108329          24323   \n",
      "3              60      4081           200000          26180   \n",
      "4              60     10204           216694          48646   \n",
      "...           ...       ...              ...            ...   \n",
      "19672          60      8164           135719          19461   \n",
      "19673          60     10204           500000          99163   \n",
      "19674          60     10204           485942         108518   \n",
      "19675          60     10204           333516          74840   \n",
      "19676          60     16327           173331          38909   \n",
      "\n",
      "                                        Project          Activity  \\\n",
      "0      Prime Minister Low Cost Housing (PM-LCH)  New Construction   \n",
      "1      Prime Minister Low Cost Housing (PM-LCH)  New Construction   \n",
      "2      Prime Minister Low Cost Housing (PM-LCH)          Addition   \n",
      "3      Prime Minister Low Cost Housing (PM-LCH)  New Construction   \n",
      "4      Prime Minister Low Cost Housing (PM-LCH)  New Construction   \n",
      "...                                         ...               ...   \n",
      "19672  Prime Minister Low Cost Housing (PM-LCH)  New Construction   \n",
      "19673  Prime Minister Low Cost Housing (PM-LCH)  New Construction   \n",
      "19674  Prime Minister Low Cost Housing (PM-LCH)  New Construction   \n",
      "19675  Prime Minister Low Cost Housing (PM-LCH)  New Construction   \n",
      "19676  Prime Minister Low Cost Housing (PM-LCH)  New Construction   \n",
      "\n",
      "            Product  \n",
      "0      Housing Loan  \n",
      "1      Housing Loan  \n",
      "2      Housing Loan  \n",
      "3      Housing Loan  \n",
      "4      Housing Loan  \n",
      "...             ...  \n",
      "19672  Housing Loan  \n",
      "19673  Housing Loan  \n",
      "19674  Housing Loan  \n",
      "19675  Housing Loan  \n",
      "19676  Housing Loan  \n",
      "\n",
      "[19677 rows x 26 columns]\n"
     ]
    }
   ],
   "source": [
    "X = data.drop('Tax ',axis=1)\n",
    "print(X)"
   ]
  },
  {
   "cell_type": "markdown",
   "id": "9b542a2e-4d58-4896-969c-6c8d1fddf8d7",
   "metadata": {},
   "source": [
    "### Define Target and Features\n"
   ]
  },
  {
   "cell_type": "code",
   "execution_count": 38,
   "id": "cf4b867e-88f6-42f1-b63d-03edc6ab8b24",
   "metadata": {},
   "outputs": [],
   "source": [
    "target = 'Tax '\n",
    "X = data.drop(columns=[target])\n",
    "y = data[target]"
   ]
  },
  {
   "cell_type": "code",
   "execution_count": 39,
   "id": "ae2820c5-5a73-4788-b524-a5ea07d504f2",
   "metadata": {},
   "outputs": [
    {
     "name": "stdout",
     "output_type": "stream",
     "text": [
      "0        Tax paid\n",
      "1        Tax paid\n",
      "2        Tax paid\n",
      "3        Tax paid\n",
      "4        Tax paid\n",
      "           ...   \n",
      "19672    Tax paid\n",
      "19673    Tax paid\n",
      "19674    Tax paid\n",
      "19675    Tax paid\n",
      "19676    Tax paid\n",
      "Name: Tax , Length: 19677, dtype: object\n"
     ]
    }
   ],
   "source": [
    "print(y)"
   ]
  },
  {
   "cell_type": "markdown",
   "id": "82d7fec5-51ff-49bd-b472-91c2b03688af",
   "metadata": {},
   "source": [
    "### Identify Categorical Columns\n"
   ]
  },
  {
   "cell_type": "code",
   "execution_count": 40,
   "id": "deba1c69-a00a-42d1-8f6c-67f90ae8b0d1",
   "metadata": {},
   "outputs": [],
   "source": [
    "categorical_cols = X.select_dtypes(include=['object']).columns.tolist()"
   ]
  },
  {
   "cell_type": "code",
   "execution_count": 41,
   "id": "e51230c6-7fb4-4f42-81da-3470d4fd38e8",
   "metadata": {},
   "outputs": [
    {
     "name": "stdout",
     "output_type": "stream",
     "text": [
      "Categorical Columns: ['Region', 'Area', 'Gender', 'Education', 'Age Level', 'Marital Status', 'House ownership', 'Source of Incom', 'Monthly_Saving', 'Saving Amount', 'Social behavior', 'who_will_earn', 'Project', 'Activity', 'Product']\n"
     ]
    }
   ],
   "source": [
    "print(f\"Categorical Columns: {categorical_cols}\")\n"
   ]
  },
  {
   "cell_type": "markdown",
   "id": "06cc4f09-ed08-4109-a31f-432bef2ad37f",
   "metadata": {},
   "source": [
    "### Train-Test Split\n"
   ]
  },
  {
   "cell_type": "code",
   "execution_count": 42,
   "id": "f52a0d36-fa15-430b-be3a-0946cb3d19c2",
   "metadata": {},
   "outputs": [],
   "source": [
    "X_train, X_test, y_train, y_test = train_test_split(X, y, test_size=0.2, random_state=42)\n"
   ]
  },
  {
   "cell_type": "markdown",
   "id": "9bf54ff2-318e-4687-95a1-138d11eb0360",
   "metadata": {},
   "source": [
    "### Initialize CatBoost\n"
   ]
  },
  {
   "cell_type": "code",
   "execution_count": 43,
   "id": "7e5a647b-3a1c-473e-a867-91a59609336c",
   "metadata": {},
   "outputs": [],
   "source": [
    "model = CatBoostClassifier(\n",
    "    iterations=500,\n",
    "    depth=8,\n",
    "    learning_rate=0.1,\n",
    "    cat_features=categorical_cols,\n",
    "    \\\n",
    "    verbose=100\n",
    ")\n"
   ]
  },
  {
   "cell_type": "markdown",
   "id": "d044a9c9-b386-4989-a189-f2511b603023",
   "metadata": {},
   "source": [
    "### Train\n"
   ]
  },
  {
   "cell_type": "code",
   "execution_count": 44,
   "id": "935f1785-b292-4dc6-abf2-562f7fd8aaad",
   "metadata": {},
   "outputs": [
    {
     "name": "stdout",
     "output_type": "stream",
     "text": [
      "0:\tlearn: 0.5206669\ttotal: 237ms\tremaining: 1m 58s\n",
      "100:\tlearn: 0.0412243\ttotal: 13.7s\tremaining: 54.3s\n",
      "200:\tlearn: 0.0268077\ttotal: 29.1s\tremaining: 43.3s\n",
      "300:\tlearn: 0.0186156\ttotal: 41.8s\tremaining: 27.6s\n",
      "400:\tlearn: 0.0147765\ttotal: 56.5s\tremaining: 14s\n",
      "499:\tlearn: 0.0125720\ttotal: 1m 11s\tremaining: 0us\n"
     ]
    },
    {
     "data": {
      "text/plain": [
       "<catboost.core.CatBoostClassifier at 0x22c69493b60>"
      ]
     },
     "execution_count": 44,
     "metadata": {},
     "output_type": "execute_result"
    }
   ],
   "source": [
    "model.fit(X_train, y_train)"
   ]
  },
  {
   "cell_type": "markdown",
   "id": "ca810449-4e57-4733-9302-4c6de81155ba",
   "metadata": {},
   "source": [
    "### Predict\n"
   ]
  },
  {
   "cell_type": "code",
   "execution_count": 45,
   "id": "30d3032d-b517-4487-93bc-7e756220514c",
   "metadata": {},
   "outputs": [
    {
     "name": "stdout",
     "output_type": "stream",
     "text": [
      "['Tax paid' 'Tax paid' 'Tax paid' ... 'Tax paid' 'Tax paid' 'Tax paid']\n"
     ]
    }
   ],
   "source": [
    "y_pred = model.predict(X_test)\n",
    "print(y_pred)\n"
   ]
  },
  {
   "cell_type": "markdown",
   "id": "abd8c1dd-9a49-42fb-8df0-8e879a6c88b2",
   "metadata": {},
   "source": [
    "### Evaluation\n"
   ]
  },
  {
   "cell_type": "code",
   "execution_count": 46,
   "id": "da392af4-f8ce-46f6-884d-bc50bb725a15",
   "metadata": {},
   "outputs": [
    {
     "name": "stdout",
     "output_type": "stream",
     "text": [
      "\n",
      "Classification Report:\n",
      "              precision    recall  f1-score   support\n",
      "\n",
      "Tax not paid       0.73      0.41      0.52        78\n",
      "    Tax paid       0.99      1.00      0.99      3858\n",
      "\n",
      "    accuracy                           0.99      3936\n",
      "   macro avg       0.86      0.70      0.76      3936\n",
      "weighted avg       0.98      0.99      0.98      3936\n",
      "\n",
      "\n",
      "Confusion Matrix:\n",
      "[[  32   46]\n",
      " [  12 3846]]\n"
     ]
    }
   ],
   "source": [
    "print(\"\\nClassification Report:\")\n",
    "print(classification_report(y_test, y_pred))\n",
    "\n",
    "print(\"\\nConfusion Matrix:\")\n",
    "print(confusion_matrix(y_test, y_pred))"
   ]
  },
  {
   "cell_type": "markdown",
   "id": "75e17212-a350-40b3-8c8c-7f4948aa0f5b",
   "metadata": {},
   "source": [
    "### After training the model\n"
   ]
  },
  {
   "cell_type": "markdown",
   "id": "be7544ac-514d-4cc9-8ce5-f08f6bb5be8e",
   "metadata": {},
   "source": [
    "#### Save the model\n"
   ]
  },
  {
   "cell_type": "code",
   "execution_count": 47,
   "id": "acd9103d-833d-4fdd-a2b9-42c0c047f574",
   "metadata": {},
   "outputs": [],
   "source": [
    "model.save_model(\"D:/Projects/PM_LCH Loan Prediction/PMLP_catboost_model.cbm\")\n"
   ]
  },
  {
   "cell_type": "code",
   "execution_count": null,
   "id": "93d29e55-ca59-4e48-ad1d-288dd01aa27d",
   "metadata": {},
   "outputs": [],
   "source": [
    "!pip install flask catboost\n"
   ]
  },
  {
   "cell_type": "code",
   "execution_count": null,
   "id": "c3c66701-e4a7-4b19-bfc9-d618b003d70f",
   "metadata": {},
   "outputs": [],
   "source": []
  }
 ],
 "metadata": {
  "kernelspec": {
   "display_name": "Python 3 (ipykernel)",
   "language": "python",
   "name": "python3"
  },
  "language_info": {
   "codemirror_mode": {
    "name": "ipython",
    "version": 3
   },
   "file_extension": ".py",
   "mimetype": "text/x-python",
   "name": "python",
   "nbconvert_exporter": "python",
   "pygments_lexer": "ipython3",
   "version": "3.13.2"
  }
 },
 "nbformat": 4,
 "nbformat_minor": 5
}
